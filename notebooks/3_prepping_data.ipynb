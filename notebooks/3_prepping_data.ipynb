{
 "cells": [
  {
   "cell_type": "markdown",
   "metadata": {},
   "source": [
    "# Import libraries and load text"
   ]
  },
  {
   "cell_type": "code",
   "execution_count": 53,
   "metadata": {},
   "outputs": [],
   "source": [
    "import pandas as pd\n",
    "import numpy as np\n",
    "import nltk\n",
    "from nltk.corpus import stopwords\n",
    "from nltk import word_tokenize, FreqDist\n",
    "from nltk.stem.wordnet import WordNetLemmatizer\n",
    "import string\n",
    "import plotly\n",
    "import plotly.graph_objects as go\n",
    "import plotly.express as px\n",
    "from sklearn.feature_extraction.text import TfidfVectorizer, CountVectorizer"
   ]
  },
  {
   "cell_type": "code",
   "execution_count": 54,
   "metadata": {},
   "outputs": [
    {
     "name": "stdout",
     "output_type": "stream",
     "text": [
      "Requirement already satisfied: plotly in /opt/anaconda3/lib/python3.8/site-packages (5.9.0)\r\n",
      "Requirement already satisfied: tenacity>=6.2.0 in /opt/anaconda3/lib/python3.8/site-packages (from plotly) (8.0.1)\r\n"
     ]
    }
   ],
   "source": [
    "!pip3 install plotly"
   ]
  },
  {
   "cell_type": "code",
   "execution_count": 55,
   "metadata": {},
   "outputs": [],
   "source": [
    "# Prepping dataframe as done in 1_EDA.ipynb\n",
    "\n",
    "df = pd.read_csv('complaints_1year.csv')\n",
    "df = df[['Product', 'Consumer complaint narrative']]\n",
    "\n",
    "df = df.rename(columns={\"Product\": \"product\", \"Consumer complaint narrative\": \"narrative\"})\n",
    "df = df[ (df['product'] != \"Debt collection\" ) & \n",
    "        (df['product'] != \"Money transfer, virtual currency, or money service\") & \n",
    "       (df['product'] != \"Checking or savings account\")]\n",
    "\n",
    "df['product'].replace({'Credit reporting, credit repair services, or other personal consumer reports': 'credit_related',\n",
    "                       'Credit card or prepaid card': 'credit_related',\n",
    "                       'Mortgage': 'Mortgage and loans',\n",
    "                       'Vehicle loan or lease': 'Mortgage and loans',\n",
    "                       'Payday loan, title loan, or personal loan': 'Mortgage and loans',\n",
    "                       'Student loan': 'Mortgage and loans'}, inplace=True)"
   ]
  },
  {
   "cell_type": "code",
   "execution_count": 56,
   "metadata": {},
   "outputs": [
    {
     "data": {
      "text/html": [
       "<div>\n",
       "<style scoped>\n",
       "    .dataframe tbody tr th:only-of-type {\n",
       "        vertical-align: middle;\n",
       "    }\n",
       "\n",
       "    .dataframe tbody tr th {\n",
       "        vertical-align: top;\n",
       "    }\n",
       "\n",
       "    .dataframe thead th {\n",
       "        text-align: right;\n",
       "    }\n",
       "</style>\n",
       "<table border=\"1\" class=\"dataframe\">\n",
       "  <thead>\n",
       "    <tr style=\"text-align: right;\">\n",
       "      <th></th>\n",
       "      <th>product</th>\n",
       "      <th>narrative</th>\n",
       "    </tr>\n",
       "  </thead>\n",
       "  <tbody>\n",
       "    <tr>\n",
       "      <th>0</th>\n",
       "      <td>Mortgage and loans</td>\n",
       "      <td>Caliber Loan Number : XXXX On XX/XX/2020, I sp...</td>\n",
       "    </tr>\n",
       "    <tr>\n",
       "      <th>2</th>\n",
       "      <td>credit_related</td>\n",
       "      <td>This closed XXXX XXXX account ( last four XXXX...</td>\n",
       "    </tr>\n",
       "    <tr>\n",
       "      <th>3</th>\n",
       "      <td>credit_related</td>\n",
       "      <td>THESE ACCOUNTS WAS LISTED ON MY CREDIT REPORT ...</td>\n",
       "    </tr>\n",
       "    <tr>\n",
       "      <th>4</th>\n",
       "      <td>credit_related</td>\n",
       "      <td>I reviewed a copy of my credit report and show...</td>\n",
       "    </tr>\n",
       "    <tr>\n",
       "      <th>5</th>\n",
       "      <td>Mortgage and loans</td>\n",
       "      <td>My previous complaint was closed, XXXX, but no...</td>\n",
       "    </tr>\n",
       "    <tr>\n",
       "      <th>7</th>\n",
       "      <td>credit_related</td>\n",
       "      <td>THESE ACCOUNTS WAS LISTED ON MY CREDIT REPORT ...</td>\n",
       "    </tr>\n",
       "    <tr>\n",
       "      <th>9</th>\n",
       "      <td>Mortgage and loans</td>\n",
       "      <td>XXXX XXXX XXXX FM XXXX XXXX, TX XXXX Re : Sant...</td>\n",
       "    </tr>\n",
       "    <tr>\n",
       "      <th>11</th>\n",
       "      <td>credit_related</td>\n",
       "      <td>It would be ideal if you be exhorted that I ha...</td>\n",
       "    </tr>\n",
       "    <tr>\n",
       "      <th>12</th>\n",
       "      <td>credit_related</td>\n",
       "      <td>AS A CONSUMER, I AM TRYING TO REMOVE THE FRAUD...</td>\n",
       "    </tr>\n",
       "    <tr>\n",
       "      <th>15</th>\n",
       "      <td>credit_related</td>\n",
       "      <td>I have now called several times today. I was j...</td>\n",
       "    </tr>\n",
       "  </tbody>\n",
       "</table>\n",
       "</div>"
      ],
      "text/plain": [
       "               product                                          narrative\n",
       "0   Mortgage and loans  Caliber Loan Number : XXXX On XX/XX/2020, I sp...\n",
       "2       credit_related  This closed XXXX XXXX account ( last four XXXX...\n",
       "3       credit_related  THESE ACCOUNTS WAS LISTED ON MY CREDIT REPORT ...\n",
       "4       credit_related  I reviewed a copy of my credit report and show...\n",
       "5   Mortgage and loans  My previous complaint was closed, XXXX, but no...\n",
       "7       credit_related  THESE ACCOUNTS WAS LISTED ON MY CREDIT REPORT ...\n",
       "9   Mortgage and loans  XXXX XXXX XXXX FM XXXX XXXX, TX XXXX Re : Sant...\n",
       "11      credit_related  It would be ideal if you be exhorted that I ha...\n",
       "12      credit_related  AS A CONSUMER, I AM TRYING TO REMOVE THE FRAUD...\n",
       "15      credit_related  I have now called several times today. I was j..."
      ]
     },
     "execution_count": 56,
     "metadata": {},
     "output_type": "execute_result"
    }
   ],
   "source": [
    "df.head(10)"
   ]
  },
  {
   "cell_type": "code",
   "execution_count": 57,
   "metadata": {},
   "outputs": [],
   "source": [
    "df.index = np.arange(0, len(df))"
   ]
  },
  {
   "cell_type": "code",
   "execution_count": 58,
   "metadata": {},
   "outputs": [
    {
     "data": {
      "text/html": [
       "<div>\n",
       "<style scoped>\n",
       "    .dataframe tbody tr th:only-of-type {\n",
       "        vertical-align: middle;\n",
       "    }\n",
       "\n",
       "    .dataframe tbody tr th {\n",
       "        vertical-align: top;\n",
       "    }\n",
       "\n",
       "    .dataframe thead th {\n",
       "        text-align: right;\n",
       "    }\n",
       "</style>\n",
       "<table border=\"1\" class=\"dataframe\">\n",
       "  <thead>\n",
       "    <tr style=\"text-align: right;\">\n",
       "      <th></th>\n",
       "      <th>product</th>\n",
       "      <th>narrative</th>\n",
       "    </tr>\n",
       "  </thead>\n",
       "  <tbody>\n",
       "    <tr>\n",
       "      <th>0</th>\n",
       "      <td>Mortgage and loans</td>\n",
       "      <td>Caliber Loan Number : XXXX On XX/XX/2020, I sp...</td>\n",
       "    </tr>\n",
       "    <tr>\n",
       "      <th>1</th>\n",
       "      <td>credit_related</td>\n",
       "      <td>This closed XXXX XXXX account ( last four XXXX...</td>\n",
       "    </tr>\n",
       "    <tr>\n",
       "      <th>2</th>\n",
       "      <td>credit_related</td>\n",
       "      <td>THESE ACCOUNTS WAS LISTED ON MY CREDIT REPORT ...</td>\n",
       "    </tr>\n",
       "    <tr>\n",
       "      <th>3</th>\n",
       "      <td>credit_related</td>\n",
       "      <td>I reviewed a copy of my credit report and show...</td>\n",
       "    </tr>\n",
       "    <tr>\n",
       "      <th>4</th>\n",
       "      <td>Mortgage and loans</td>\n",
       "      <td>My previous complaint was closed, XXXX, but no...</td>\n",
       "    </tr>\n",
       "  </tbody>\n",
       "</table>\n",
       "</div>"
      ],
      "text/plain": [
       "              product                                          narrative\n",
       "0  Mortgage and loans  Caliber Loan Number : XXXX On XX/XX/2020, I sp...\n",
       "1      credit_related  This closed XXXX XXXX account ( last four XXXX...\n",
       "2      credit_related  THESE ACCOUNTS WAS LISTED ON MY CREDIT REPORT ...\n",
       "3      credit_related  I reviewed a copy of my credit report and show...\n",
       "4  Mortgage and loans  My previous complaint was closed, XXXX, but no..."
      ]
     },
     "execution_count": 58,
     "metadata": {},
     "output_type": "execute_result"
    }
   ],
   "source": [
    "df.head()"
   ]
  },
  {
   "cell_type": "code",
   "execution_count": 59,
   "metadata": {},
   "outputs": [
    {
     "data": {
      "text/plain": [
       "credit_related        121107\n",
       "Mortgage and loans     22555\n",
       "Name: product, dtype: int64"
      ]
     },
     "execution_count": 59,
     "metadata": {},
     "output_type": "execute_result"
    }
   ],
   "source": [
    "df['product'].value_counts()"
   ]
  },
  {
   "cell_type": "code",
   "execution_count": 60,
   "metadata": {},
   "outputs": [
    {
     "data": {
      "text/plain": [
       "'Caliber Loan Number : XXXX On XX/XX/2020, I spoke with a loan agent by the name of XXXX XXXX about refinancing options and interest rates only. He asked if I wanted to submit a loan application and I explicitly told him, \" No \\'\\'. I filed a complaint with Caliber Homes and no excuse or reason was provided for his unethical actions. Their response was, \" Since you decided not to move forward with the loan refinance process, the Loan Consultant was required to withdraw your application in our system. \" ( Direct quote ). As if this solves the problem. The issue is, I told him not to submit a loan application in the first place from the beginning. The call was recorded on their end. Caliber is saying that a loan number was required to be opened as part of their inquiry, so that the Loan Consultant could gather my information and be able to provide me the most accurate information available in regards to my refinance options. Even if this were the case, I should have been told that upfront and then why did he even ask if I wanted to move forward with submitting a loan application if this is normal/routine practice. I have spoken with plenty of other refinance companies and they were able to provide me with information that I requested without submitting an actual loan application. I believe that they are just trying to \" beef \\'\\' up their numbers.'"
      ]
     },
     "execution_count": 60,
     "metadata": {},
     "output_type": "execute_result"
    }
   ],
   "source": [
    "df.loc[0]['narrative']"
   ]
  },
  {
   "cell_type": "code",
   "execution_count": 61,
   "metadata": {},
   "outputs": [
    {
     "data": {
      "text/plain": [
       "143662"
      ]
     },
     "execution_count": 61,
     "metadata": {},
     "output_type": "execute_result"
    }
   ],
   "source": [
    "len(df)"
   ]
  },
  {
   "cell_type": "markdown",
   "metadata": {},
   "source": [
    "# Loop through narratives to remove stopwords, tokenize and lemmatize"
   ]
  },
  {
   "cell_type": "code",
   "execution_count": 62,
   "metadata": {},
   "outputs": [],
   "source": [
    "stopwords_list = stopwords.words('english') + list(string.punctuation)\n",
    "stopwords_list += [\"''\", '\"\"', '...', '``']\n",
    "stopwords_list += ['--', 'xxxx', 'xx/xx/2020', 'xx/xx/2021']"
   ]
  },
  {
   "cell_type": "code",
   "execution_count": 63,
   "metadata": {},
   "outputs": [],
   "source": [
    "# function to tokenize data and remove stopwords\n",
    "def process_narrative(narrative):\n",
    "    tokens = nltk.word_tokenize(narrative)\n",
    "    stopwords_removed = [token.lower() for token in tokens if token.lower() not in stopwords_list]\n",
    "    \n",
    "    # adding line to remove all tokens with numbers and punctuation\n",
    "    stopwords_punc_and_numbers_removed = [word for word in stopwords_removed if word.isalpha()]\n",
    "    \n",
    "    return stopwords_punc_and_numbers_removed\n",
    "\n",
    "\n",
    "# function to concat words (used in function below)\n",
    "def concat_words(list_of_words):\n",
    "    # remove any NaN's\n",
    "    # list_of_words = [i for i in list if i is not np.nan]\n",
    "\n",
    "    concat_words = ''\n",
    "    for word in list_of_words:\n",
    "        concat_words += word + ' '\n",
    "    return concat_words.strip()\n",
    "\n",
    "# function to lemmatize words and merge each complaint into a single space-separated string\n",
    "\n",
    "lemm = WordNetLemmatizer()\n",
    "\n",
    "def make_lemma_and_concat(list_of_words):\n",
    "    # remove any NaN's\n",
    "    list_of_words = [i for i in list_of_words if i is not np.nan]\n",
    "    \n",
    "    # lemmatize each word\n",
    "    lemmatized_list = []\n",
    "    for idx, word in enumerate(list_of_words):\n",
    "        lemmatized_list.append(lemm.lemmatize(word))\n",
    "    \n",
    "    # make the list into a single string with the words separated by ' '\n",
    "    concatenated_string = concat_words(lemmatized_list)\n",
    "    return concatenated_string"
   ]
  },
  {
   "cell_type": "markdown",
   "metadata": {},
   "source": [
    "# Prepare dataframe for modeling"
   ]
  },
  {
   "cell_type": "code",
   "execution_count": 65,
   "metadata": {},
   "outputs": [
    {
     "data": {
      "text/plain": [
       "(143662, 3)"
      ]
     },
     "execution_count": 65,
     "metadata": {},
     "output_type": "execute_result"
    }
   ],
   "source": [
    "df['processed narrative'] = df['narrative']\n",
    "df.shape"
   ]
  },
  {
   "cell_type": "code",
   "execution_count": 66,
   "metadata": {},
   "outputs": [
    {
     "name": "stdout",
     "output_type": "stream",
     "text": [
      "Finished line number 0\n",
      "Finished line number 3000\n",
      "Finished line number 6000\n",
      "Finished line number 9000\n",
      "Finished line number 12000\n",
      "Finished line number 15000\n",
      "Finished line number 18000\n",
      "Finished line number 21000\n",
      "Finished line number 24000\n",
      "Finished line number 27000\n",
      "Finished line number 30000\n",
      "Finished line number 33000\n",
      "Finished line number 36000\n",
      "Finished line number 39000\n",
      "Finished line number 42000\n",
      "Finished line number 45000\n",
      "Finished line number 48000\n",
      "Finished line number 51000\n",
      "Finished line number 54000\n",
      "Finished line number 57000\n",
      "Finished line number 60000\n",
      "Finished line number 63000\n",
      "Finished line number 66000\n",
      "Finished line number 69000\n",
      "Finished line number 72000\n",
      "Finished line number 75000\n",
      "Finished line number 78000\n",
      "Finished line number 81000\n",
      "Finished line number 84000\n",
      "Finished line number 87000\n",
      "Finished line number 90000\n",
      "Finished line number 93000\n",
      "Finished line number 96000\n",
      "Finished line number 99000\n",
      "Finished line number 102000\n",
      "Finished line number 105000\n",
      "Finished line number 108000\n",
      "Finished line number 111000\n",
      "Finished line number 114000\n",
      "Finished line number 117000\n",
      "Finished line number 120000\n",
      "Finished line number 123000\n",
      "Finished line number 126000\n",
      "Finished line number 129000\n",
      "Finished line number 132000\n",
      "Finished line number 135000\n",
      "Finished line number 138000\n",
      "Finished line number 141000\n"
     ]
    },
    {
     "data": {
      "text/html": [
       "<div>\n",
       "<style scoped>\n",
       "    .dataframe tbody tr th:only-of-type {\n",
       "        vertical-align: middle;\n",
       "    }\n",
       "\n",
       "    .dataframe tbody tr th {\n",
       "        vertical-align: top;\n",
       "    }\n",
       "\n",
       "    .dataframe thead th {\n",
       "        text-align: right;\n",
       "    }\n",
       "</style>\n",
       "<table border=\"1\" class=\"dataframe\">\n",
       "  <thead>\n",
       "    <tr style=\"text-align: right;\">\n",
       "      <th></th>\n",
       "      <th>product</th>\n",
       "      <th>narrative</th>\n",
       "      <th>processed narrative</th>\n",
       "    </tr>\n",
       "  </thead>\n",
       "  <tbody>\n",
       "    <tr>\n",
       "      <th>0</th>\n",
       "      <td>Mortgage and loans</td>\n",
       "      <td>Caliber Loan Number : XXXX On XX/XX/2020, I sp...</td>\n",
       "      <td>caliber loan number spoke loan agent name refi...</td>\n",
       "    </tr>\n",
       "    <tr>\n",
       "      <th>1</th>\n",
       "      <td>credit_related</td>\n",
       "      <td>This closed XXXX XXXX account ( last four XXXX...</td>\n",
       "      <td>closed account last four show year month old c...</td>\n",
       "    </tr>\n",
       "    <tr>\n",
       "      <th>2</th>\n",
       "      <td>credit_related</td>\n",
       "      <td>THESE ACCOUNTS WAS LISTED ON MY CREDIT REPORT ...</td>\n",
       "      <td>account listed credit report never opened acco...</td>\n",
       "    </tr>\n",
       "    <tr>\n",
       "      <th>3</th>\n",
       "      <td>credit_related</td>\n",
       "      <td>I reviewed a copy of my credit report and show...</td>\n",
       "      <td>reviewed copy credit report show inaccurate in...</td>\n",
       "    </tr>\n",
       "    <tr>\n",
       "      <th>4</th>\n",
       "      <td>Mortgage and loans</td>\n",
       "      <td>My previous complaint was closed, XXXX, but no...</td>\n",
       "      <td>previous complaint closed resolved satisfactio...</td>\n",
       "    </tr>\n",
       "  </tbody>\n",
       "</table>\n",
       "</div>"
      ],
      "text/plain": [
       "              product                                          narrative  \\\n",
       "0  Mortgage and loans  Caliber Loan Number : XXXX On XX/XX/2020, I sp...   \n",
       "1      credit_related  This closed XXXX XXXX account ( last four XXXX...   \n",
       "2      credit_related  THESE ACCOUNTS WAS LISTED ON MY CREDIT REPORT ...   \n",
       "3      credit_related  I reviewed a copy of my credit report and show...   \n",
       "4  Mortgage and loans  My previous complaint was closed, XXXX, but no...   \n",
       "\n",
       "                                 processed narrative  \n",
       "0  caliber loan number spoke loan agent name refi...  \n",
       "1  closed account last four show year month old c...  \n",
       "2  account listed credit report never opened acco...  \n",
       "3  reviewed copy credit report show inaccurate in...  \n",
       "4  previous complaint closed resolved satisfactio...  "
      ]
     },
     "execution_count": 66,
     "metadata": {},
     "output_type": "execute_result"
    }
   ],
   "source": [
    "for i in range(len(df)):\n",
    "    processed_narr = process_narrative(df['narrative'].loc[i])\n",
    "    narr = make_lemma_and_concat(processed_narr)\n",
    "    df['processed narrative'].loc[i] = narr\n",
    "    if i % 3000 == 0:\n",
    "        print(f'Finished line number {i}')\n",
    "df.head()"
   ]
  },
  {
   "cell_type": "markdown",
   "metadata": {},
   "source": [
    "# Save dataframe as csv for use in other notebooks"
   ]
  },
  {
   "cell_type": "code",
   "execution_count": 67,
   "metadata": {},
   "outputs": [],
   "source": [
    "df.to_csv('complaints_processed_1year.csv')"
   ]
  },
  {
   "cell_type": "code",
   "execution_count": null,
   "metadata": {},
   "outputs": [],
   "source": []
  },
  {
   "cell_type": "code",
   "execution_count": null,
   "metadata": {},
   "outputs": [],
   "source": []
  }
 ],
 "metadata": {
  "kernelspec": {
   "display_name": "Python 3 (ipykernel)",
   "language": "python",
   "name": "python3"
  },
  "language_info": {
   "codemirror_mode": {
    "name": "ipython",
    "version": 3
   },
   "file_extension": ".py",
   "mimetype": "text/x-python",
   "name": "python",
   "nbconvert_exporter": "python",
   "pygments_lexer": "ipython3",
   "version": "3.8.11"
  },
  "varInspector": {
   "cols": {
    "lenName": 16,
    "lenType": 16,
    "lenVar": 40
   },
   "kernels_config": {
    "python": {
     "delete_cmd_postfix": "",
     "delete_cmd_prefix": "del ",
     "library": "var_list.py",
     "varRefreshCmd": "print(var_dic_list())"
    },
    "r": {
     "delete_cmd_postfix": ") ",
     "delete_cmd_prefix": "rm(",
     "library": "var_list.r",
     "varRefreshCmd": "cat(var_dic_list()) "
    }
   },
   "types_to_exclude": [
    "module",
    "function",
    "builtin_function_or_method",
    "instance",
    "_Feature"
   ],
   "window_display": false
  }
 },
 "nbformat": 4,
 "nbformat_minor": 4
}
