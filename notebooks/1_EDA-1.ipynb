{
 "cells": [
  {
   "cell_type": "markdown",
   "metadata": {},
   "source": [
    "# Import and inspect data"
   ]
  },
  {
   "cell_type": "code",
   "execution_count": 1,
   "metadata": {
    "execution": {
     "iopub.execute_input": "2021-04-16T16:35:32.700039Z",
     "iopub.status.busy": "2021-04-16T16:35:32.695039Z",
     "iopub.status.idle": "2021-04-16T16:35:44.379043Z",
     "shell.execute_reply": "2021-04-16T16:35:44.376042Z",
     "shell.execute_reply.started": "2021-04-16T16:35:32.700039Z"
    }
   },
   "outputs": [],
   "source": [
    "import pandas as pd\n",
    "import numpy as np\n",
    "import nltk\n",
    "from nltk.corpus import stopwords\n",
    "from nltk import word_tokenize, FreqDist\n",
    "import string"
   ]
  },
  {
   "cell_type": "code",
   "execution_count": 2,
   "metadata": {},
   "outputs": [
    {
     "name": "stdout",
     "output_type": "stream",
     "text": [
      "/Users/keqiaoli/Downloads/complaint-content-classification-nlp-main/notebooks\r\n"
     ]
    }
   ],
   "source": [
    "!pwd"
   ]
  },
  {
   "cell_type": "code",
   "execution_count": 3,
   "metadata": {
    "execution": {
     "iopub.execute_input": "2021-04-16T16:35:44.384045Z",
     "iopub.status.busy": "2021-04-16T16:35:44.382048Z",
     "iopub.status.idle": "2021-04-16T16:35:49.500043Z",
     "shell.execute_reply": "2021-04-16T16:35:49.498041Z",
     "shell.execute_reply.started": "2021-04-16T16:35:44.384045Z"
    }
   },
   "outputs": [],
   "source": [
    "df = pd.read_csv('complaints_1year.csv')"
   ]
  },
  {
   "cell_type": "code",
   "execution_count": 4,
   "metadata": {},
   "outputs": [
    {
     "name": "stdout",
     "output_type": "stream",
     "text": [
      "<class 'pandas.core.frame.DataFrame'>\n",
      "RangeIndex: 189158 entries, 0 to 189157\n",
      "Data columns (total 18 columns):\n",
      " #   Column                        Non-Null Count   Dtype  \n",
      "---  ------                        --------------   -----  \n",
      " 0   Date received                 189158 non-null  object \n",
      " 1   Product                       189158 non-null  object \n",
      " 2   Sub-product                   189158 non-null  object \n",
      " 3   Issue                         189158 non-null  object \n",
      " 4   Sub-issue                     189158 non-null  object \n",
      " 5   Consumer complaint narrative  189158 non-null  object \n",
      " 6   Company public response       189158 non-null  object \n",
      " 7   Company                       189158 non-null  object \n",
      " 8   State                         189158 non-null  object \n",
      " 9   ZIP code                      189158 non-null  object \n",
      " 10  Tags                          189158 non-null  object \n",
      " 11  Consumer consent provided?    189158 non-null  object \n",
      " 12  Submitted via                 189158 non-null  object \n",
      " 13  Date sent to company          189158 non-null  object \n",
      " 14  Company response to consumer  189158 non-null  object \n",
      " 15  Timely response?              189158 non-null  object \n",
      " 16  Consumer disputed?            0 non-null       float64\n",
      " 17  Complaint ID                  189158 non-null  int64  \n",
      "dtypes: float64(1), int64(1), object(16)\n",
      "memory usage: 26.0+ MB\n"
     ]
    }
   ],
   "source": [
    "df.info()"
   ]
  },
  {
   "cell_type": "code",
   "execution_count": 5,
   "metadata": {},
   "outputs": [
    {
     "data": {
      "text/html": [
       "<div>\n",
       "<style scoped>\n",
       "    .dataframe tbody tr th:only-of-type {\n",
       "        vertical-align: middle;\n",
       "    }\n",
       "\n",
       "    .dataframe tbody tr th {\n",
       "        vertical-align: top;\n",
       "    }\n",
       "\n",
       "    .dataframe thead th {\n",
       "        text-align: right;\n",
       "    }\n",
       "</style>\n",
       "<table border=\"1\" class=\"dataframe\">\n",
       "  <thead>\n",
       "    <tr style=\"text-align: right;\">\n",
       "      <th></th>\n",
       "      <th>Date received</th>\n",
       "      <th>Product</th>\n",
       "      <th>Sub-product</th>\n",
       "      <th>Issue</th>\n",
       "      <th>Sub-issue</th>\n",
       "      <th>Consumer complaint narrative</th>\n",
       "      <th>Company public response</th>\n",
       "      <th>Company</th>\n",
       "      <th>State</th>\n",
       "      <th>ZIP code</th>\n",
       "      <th>Tags</th>\n",
       "      <th>Consumer consent provided?</th>\n",
       "      <th>Submitted via</th>\n",
       "      <th>Date sent to company</th>\n",
       "      <th>Company response to consumer</th>\n",
       "      <th>Timely response?</th>\n",
       "      <th>Consumer disputed?</th>\n",
       "      <th>Complaint ID</th>\n",
       "    </tr>\n",
       "  </thead>\n",
       "  <tbody>\n",
       "    <tr>\n",
       "      <th>0</th>\n",
       "      <td>12/07/20</td>\n",
       "      <td>Mortgage</td>\n",
       "      <td>Conventional home mortgage</td>\n",
       "      <td>Applying for a mortgage or refinancing an exis...</td>\n",
       "      <td>None</td>\n",
       "      <td>Caliber Loan Number : XXXX On XX/XX/2020, I sp...</td>\n",
       "      <td>None</td>\n",
       "      <td>Caliber Home Loans, Inc.</td>\n",
       "      <td>TX</td>\n",
       "      <td>77584</td>\n",
       "      <td>None</td>\n",
       "      <td>Consent provided</td>\n",
       "      <td>Web</td>\n",
       "      <td>12/07/20</td>\n",
       "      <td>Closed with explanation</td>\n",
       "      <td>Yes</td>\n",
       "      <td>NaN</td>\n",
       "      <td>3996455</td>\n",
       "    </tr>\n",
       "    <tr>\n",
       "      <th>1</th>\n",
       "      <td>12/23/20</td>\n",
       "      <td>Debt collection</td>\n",
       "      <td>Payday loan debt</td>\n",
       "      <td>Attempts to collect debt not owed</td>\n",
       "      <td>Debt was paid</td>\n",
       "      <td>Mr XXXX from direct recovery service called me...</td>\n",
       "      <td>None</td>\n",
       "      <td>Direct Recovery Services, LLC</td>\n",
       "      <td>VA</td>\n",
       "      <td>24018</td>\n",
       "      <td>None</td>\n",
       "      <td>Consent provided</td>\n",
       "      <td>Web</td>\n",
       "      <td>12/23/20</td>\n",
       "      <td>Closed with explanation</td>\n",
       "      <td>Yes</td>\n",
       "      <td>NaN</td>\n",
       "      <td>4029017</td>\n",
       "    </tr>\n",
       "    <tr>\n",
       "      <th>2</th>\n",
       "      <td>12/05/20</td>\n",
       "      <td>Credit reporting, credit repair services, or o...</td>\n",
       "      <td>Credit reporting</td>\n",
       "      <td>Incorrect information on your report</td>\n",
       "      <td>Old information reappears or never goes away</td>\n",
       "      <td>This closed XXXX XXXX account ( last four XXXX...</td>\n",
       "      <td>Company has responded to the consumer and the ...</td>\n",
       "      <td>Experian Information Solutions Inc.</td>\n",
       "      <td>MI</td>\n",
       "      <td>48083</td>\n",
       "      <td>None</td>\n",
       "      <td>Consent provided</td>\n",
       "      <td>Web</td>\n",
       "      <td>12/05/20</td>\n",
       "      <td>Closed with explanation</td>\n",
       "      <td>Yes</td>\n",
       "      <td>NaN</td>\n",
       "      <td>3993040</td>\n",
       "    </tr>\n",
       "    <tr>\n",
       "      <th>3</th>\n",
       "      <td>12/24/20</td>\n",
       "      <td>Credit reporting, credit repair services, or o...</td>\n",
       "      <td>Credit reporting</td>\n",
       "      <td>Problem with a credit reporting company's inve...</td>\n",
       "      <td>Investigation took more than 30 days</td>\n",
       "      <td>THESE ACCOUNTS WAS LISTED ON MY CREDIT REPORT ...</td>\n",
       "      <td>Company has responded to the consumer and the ...</td>\n",
       "      <td>Experian Information Solutions Inc.</td>\n",
       "      <td>TN</td>\n",
       "      <td>37128</td>\n",
       "      <td>None</td>\n",
       "      <td>Consent provided</td>\n",
       "      <td>Web</td>\n",
       "      <td>12/24/20</td>\n",
       "      <td>Closed with explanation</td>\n",
       "      <td>Yes</td>\n",
       "      <td>NaN</td>\n",
       "      <td>4029947</td>\n",
       "    </tr>\n",
       "    <tr>\n",
       "      <th>4</th>\n",
       "      <td>12/24/20</td>\n",
       "      <td>Credit reporting, credit repair services, or o...</td>\n",
       "      <td>Credit reporting</td>\n",
       "      <td>Problem with a credit reporting company's inve...</td>\n",
       "      <td>Investigation took more than 30 days</td>\n",
       "      <td>I reviewed a copy of my credit report and show...</td>\n",
       "      <td>None</td>\n",
       "      <td>EQUIFAX, INC.</td>\n",
       "      <td>NV</td>\n",
       "      <td>89130</td>\n",
       "      <td>None</td>\n",
       "      <td>Consent provided</td>\n",
       "      <td>Web</td>\n",
       "      <td>12/24/20</td>\n",
       "      <td>Closed with explanation</td>\n",
       "      <td>Yes</td>\n",
       "      <td>NaN</td>\n",
       "      <td>4029968</td>\n",
       "    </tr>\n",
       "  </tbody>\n",
       "</table>\n",
       "</div>"
      ],
      "text/plain": [
       "  Date received                                            Product  \\\n",
       "0      12/07/20                                           Mortgage   \n",
       "1      12/23/20                                    Debt collection   \n",
       "2      12/05/20  Credit reporting, credit repair services, or o...   \n",
       "3      12/24/20  Credit reporting, credit repair services, or o...   \n",
       "4      12/24/20  Credit reporting, credit repair services, or o...   \n",
       "\n",
       "                  Sub-product  \\\n",
       "0  Conventional home mortgage   \n",
       "1            Payday loan debt   \n",
       "2            Credit reporting   \n",
       "3            Credit reporting   \n",
       "4            Credit reporting   \n",
       "\n",
       "                                               Issue  \\\n",
       "0  Applying for a mortgage or refinancing an exis...   \n",
       "1                  Attempts to collect debt not owed   \n",
       "2               Incorrect information on your report   \n",
       "3  Problem with a credit reporting company's inve...   \n",
       "4  Problem with a credit reporting company's inve...   \n",
       "\n",
       "                                      Sub-issue  \\\n",
       "0                                          None   \n",
       "1                                 Debt was paid   \n",
       "2  Old information reappears or never goes away   \n",
       "3          Investigation took more than 30 days   \n",
       "4          Investigation took more than 30 days   \n",
       "\n",
       "                        Consumer complaint narrative  \\\n",
       "0  Caliber Loan Number : XXXX On XX/XX/2020, I sp...   \n",
       "1  Mr XXXX from direct recovery service called me...   \n",
       "2  This closed XXXX XXXX account ( last four XXXX...   \n",
       "3  THESE ACCOUNTS WAS LISTED ON MY CREDIT REPORT ...   \n",
       "4  I reviewed a copy of my credit report and show...   \n",
       "\n",
       "                             Company public response  \\\n",
       "0                                               None   \n",
       "1                                               None   \n",
       "2  Company has responded to the consumer and the ...   \n",
       "3  Company has responded to the consumer and the ...   \n",
       "4                                               None   \n",
       "\n",
       "                               Company State ZIP code  Tags  \\\n",
       "0             Caliber Home Loans, Inc.    TX    77584  None   \n",
       "1        Direct Recovery Services, LLC    VA    24018  None   \n",
       "2  Experian Information Solutions Inc.    MI    48083  None   \n",
       "3  Experian Information Solutions Inc.    TN    37128  None   \n",
       "4                        EQUIFAX, INC.    NV    89130  None   \n",
       "\n",
       "  Consumer consent provided? Submitted via Date sent to company  \\\n",
       "0           Consent provided           Web             12/07/20   \n",
       "1           Consent provided           Web             12/23/20   \n",
       "2           Consent provided           Web             12/05/20   \n",
       "3           Consent provided           Web             12/24/20   \n",
       "4           Consent provided           Web             12/24/20   \n",
       "\n",
       "  Company response to consumer Timely response?  Consumer disputed?  \\\n",
       "0      Closed with explanation              Yes                 NaN   \n",
       "1      Closed with explanation              Yes                 NaN   \n",
       "2      Closed with explanation              Yes                 NaN   \n",
       "3      Closed with explanation              Yes                 NaN   \n",
       "4      Closed with explanation              Yes                 NaN   \n",
       "\n",
       "   Complaint ID  \n",
       "0       3996455  \n",
       "1       4029017  \n",
       "2       3993040  \n",
       "3       4029947  \n",
       "4       4029968  "
      ]
     },
     "execution_count": 5,
     "metadata": {},
     "output_type": "execute_result"
    }
   ],
   "source": [
    "df.head()"
   ]
  },
  {
   "cell_type": "markdown",
   "metadata": {},
   "source": [
    "### Isolate relevant columns"
   ]
  },
  {
   "cell_type": "code",
   "execution_count": 6,
   "metadata": {},
   "outputs": [],
   "source": [
    "df = df[['Product', 'Sub-product', 'Issue', 'Sub-issue', 'Consumer complaint narrative']]"
   ]
  },
  {
   "cell_type": "code",
   "execution_count": 7,
   "metadata": {},
   "outputs": [],
   "source": [
    "df = df.rename(columns={\"Product\": \"product\", \"Sub-product\": \"subproduct\", \"Issue\": \"issue\", \"Sub-issue\": \"subissue\", \"Consumer complaint narrative\": \"narrative\"})"
   ]
  },
  {
   "cell_type": "code",
   "execution_count": 8,
   "metadata": {},
   "outputs": [
    {
     "data": {
      "text/plain": [
       "Credit reporting, credit repair services, or other personal consumer reports    103116\n",
       "Debt collection                                                                  28593\n",
       "Credit card or prepaid card                                                      17991\n",
       "Mortgage                                                                         13884\n",
       "Checking or savings account                                                      10723\n",
       "Money transfer, virtual currency, or money service                                6180\n",
       "Vehicle loan or lease                                                             4171\n",
       "Payday loan, title loan, or personal loan                                         2321\n",
       "Student loan                                                                      2179\n",
       "Name: product, dtype: int64"
      ]
     },
     "execution_count": 8,
     "metadata": {},
     "output_type": "execute_result"
    }
   ],
   "source": [
    "df['product'].value_counts()"
   ]
  },
  {
   "cell_type": "code",
   "execution_count": 9,
   "metadata": {},
   "outputs": [
    {
     "data": {
      "text/plain": [
       "Credit reporting                              101752\n",
       "General-purpose credit card or charge card     12740\n",
       "Conventional home mortgage                      8918\n",
       "Checking account                                8731\n",
       "Other debt                                      7994\n",
       "Credit card debt                                6678\n",
       "I do not know                                   5879\n",
       "Medical debt                                    4746\n",
       "Loan                                            3400\n",
       "Store credit card                               2582\n",
       "Mobile or digital wallet                        2507\n",
       "FHA mortgage                                    2232\n",
       "Domestic (US) money transfer                    1683\n",
       "Government benefit card                         1651\n",
       "Federal student loan servicing                  1409\n",
       "VA mortgage                                     1334\n",
       "Auto debt                                       1278\n",
       "Installment loan                                1037\n",
       "Other personal consumer report                   996\n",
       "Other banking product or service                 964\n",
       "Payday loan debt                                 960\n",
       "Virtual currency                                 931\n",
       "Savings account                                  883\n",
       "General-purpose prepaid card                     878\n",
       "Private student loan                             770\n",
       "Lease                                            766\n",
       "Other type of mortgage                           703\n",
       "International money transfer                     675\n",
       "Home equity loan or line of credit (HELOC)       605\n",
       "Payday loan                                      581\n",
       "Mortgage debt                                    543\n",
       "Personal line of credit                          474\n",
       "Credit repair services                           368\n",
       "Private student loan debt                        288\n",
       "Title loan                                       232\n",
       "Federal student loan debt                        227\n",
       "CD (Certificate of Deposit)                      136\n",
       "Reverse mortgage                                  92\n",
       "Check cashing service                             78\n",
       "Traveler's check or cashier's check               73\n",
       "Gift card                                         69\n",
       "Refund anticipation check                         68\n",
       "Payroll card                                      66\n",
       "Debt settlement                                   61\n",
       "Foreign currency exchange                         53\n",
       "Money order                                       51\n",
       "Pawn loan                                         11\n",
       "Student prepaid card                               5\n",
       "Name: subproduct, dtype: int64"
      ]
     },
     "execution_count": 9,
     "metadata": {},
     "output_type": "execute_result"
    }
   ],
   "source": [
    "df['subproduct'].value_counts()"
   ]
  },
  {
   "cell_type": "code",
   "execution_count": 10,
   "metadata": {},
   "outputs": [
    {
     "data": {
      "text/plain": [
       "Incorrect information on your report                                                60140\n",
       "Problem with a credit reporting company's investigation into an existing problem    35213\n",
       "Attempts to collect debt not owed                                                   14303\n",
       "Trouble during payment process                                                       6495\n",
       "Improper use of your report                                                          6131\n",
       "                                                                                    ...  \n",
       "Vehicle was damaged or destroyed the vehicle                                            6\n",
       "Was approved for a loan, but didn't receive money                                       3\n",
       "Property was damaged or destroyed property                                              3\n",
       "Problem with an overdraft                                                               1\n",
       "Property was sold                                                                       1\n",
       "Name: issue, Length: 80, dtype: int64"
      ]
     },
     "execution_count": 10,
     "metadata": {},
     "output_type": "execute_result"
    }
   ],
   "source": [
    "df['issue'].value_counts()"
   ]
  },
  {
   "cell_type": "code",
   "execution_count": 11,
   "metadata": {},
   "outputs": [
    {
     "data": {
      "text/plain": [
       "Information belongs to someone else                            36026\n",
       "None                                                           24176\n",
       "Their investigation did not fix an error on your report        16225\n",
       "Account status incorrect                                        8940\n",
       "Account information incorrect                                   8351\n",
       "                                                               ...  \n",
       "Problem with renewal                                               4\n",
       "Problem with a check written from your prepaid card account        4\n",
       "Qualified for a better loan than the one offered                   3\n",
       "Threatened to turn you in to immigration or deport you             3\n",
       "Problem with fees or penalties                                     2\n",
       "Name: subissue, Length: 162, dtype: int64"
      ]
     },
     "execution_count": 11,
     "metadata": {},
     "output_type": "execute_result"
    }
   ],
   "source": [
    "df['subissue'].value_counts()"
   ]
  },
  {
   "cell_type": "markdown",
   "metadata": {},
   "source": [
    "Except for 'product', it doesn't seem there's enough data to train on. Maybe I could do subproduct, too, but I'd want to eliminate those with the lower value counts.\n",
    "\n",
    "Note for subproduct, a high number is \"I don't know.\" I could maybe classify those. \n",
    "\n",
    "In 'subissue', the second highest is 'None'. Also, there seems to be a lot of overlap between the categories, finer points that some consumers may not make. Example: \"Debt is not yours\" vs. \"Debt was result of identity theft\"."
   ]
  },
  {
   "cell_type": "markdown",
   "metadata": {},
   "source": [
    "# Prepare Text"
   ]
  },
  {
   "cell_type": "markdown",
   "metadata": {},
   "source": [
    "## Inspect first row"
   ]
  },
  {
   "cell_type": "code",
   "execution_count": 12,
   "metadata": {},
   "outputs": [
    {
     "name": "stdout",
     "output_type": "stream",
     "text": [
      "product                                                Mortgage\n",
      "subproduct                           Conventional home mortgage\n",
      "issue         Applying for a mortgage or refinancing an exis...\n",
      "subissue                                                   None\n",
      "narrative     Caliber Loan Number : XXXX On XX/XX/2020, I sp...\n",
      "Name: 0, dtype: object\n"
     ]
    },
    {
     "data": {
      "text/plain": [
       "'Caliber Loan Number : XXXX On XX/XX/2020, I spoke with a loan agent by the name of XXXX XXXX about refinancing options and interest rates only. He asked if I wanted to submit a loan application and I explicitly told him, \" No \\'\\'. I filed a complaint with Caliber Homes and no excuse or reason was provided for his unethical actions. Their response was, \" Since you decided not to move forward with the loan refinance process, the Loan Consultant was required to withdraw your application in our system. \" ( Direct quote ). As if this solves the problem. The issue is, I told him not to submit a loan application in the first place from the beginning. The call was recorded on their end. Caliber is saying that a loan number was required to be opened as part of their inquiry, so that the Loan Consultant could gather my information and be able to provide me the most accurate information available in regards to my refinance options. Even if this were the case, I should have been told that upfront and then why did he even ask if I wanted to move forward with submitting a loan application if this is normal/routine practice. I have spoken with plenty of other refinance companies and they were able to provide me with information that I requested without submitting an actual loan application. I believe that they are just trying to \" beef \\'\\' up their numbers.'"
      ]
     },
     "execution_count": 12,
     "metadata": {},
     "output_type": "execute_result"
    }
   ],
   "source": [
    "print(df.iloc[0])\n",
    "text = df['narrative'][0]\n",
    "text"
   ]
  },
  {
   "cell_type": "markdown",
   "metadata": {},
   "source": [
    "## Process Data"
   ]
  },
  {
   "cell_type": "markdown",
   "metadata": {},
   "source": [
    "### Function to tokenize data and remove stopwords"
   ]
  },
  {
   "cell_type": "code",
   "execution_count": 13,
   "metadata": {},
   "outputs": [],
   "source": [
    "stopwords_list = stopwords.words('english') + list(string.punctuation)\n",
    "stopwords_list += [\"''\", '\"\"', '...', '``']"
   ]
  },
  {
   "cell_type": "code",
   "execution_count": 14,
   "metadata": {},
   "outputs": [
    {
     "name": "stderr",
     "output_type": "stream",
     "text": [
      "[nltk_data] Downloading package stopwords to\n",
      "[nltk_data]     /Users/keqiaoli/nltk_data...\n",
      "[nltk_data]   Package stopwords is already up-to-date!\n"
     ]
    },
    {
     "data": {
      "text/plain": [
       "True"
      ]
     },
     "execution_count": 14,
     "metadata": {},
     "output_type": "execute_result"
    }
   ],
   "source": [
    "nltk.download('stopwords')"
   ]
  },
  {
   "cell_type": "code",
   "execution_count": 15,
   "metadata": {},
   "outputs": [
    {
     "data": {
      "text/plain": [
       "'!\"#$%&\\'()*+,-./:;<=>?@[\\\\]^_`{|}~'"
      ]
     },
     "execution_count": 15,
     "metadata": {},
     "output_type": "execute_result"
    }
   ],
   "source": [
    "string.punctuation"
   ]
  },
  {
   "cell_type": "code",
   "execution_count": 16,
   "metadata": {},
   "outputs": [
    {
     "data": {
      "text/plain": [
       "['!',\n",
       " '\"',\n",
       " '#',\n",
       " '$',\n",
       " '%',\n",
       " '&',\n",
       " \"'\",\n",
       " '(',\n",
       " ')',\n",
       " '*',\n",
       " '+',\n",
       " ',',\n",
       " '-',\n",
       " '.',\n",
       " '/',\n",
       " ':',\n",
       " ';',\n",
       " '<',\n",
       " '=',\n",
       " '>',\n",
       " '?',\n",
       " '@',\n",
       " '[',\n",
       " '\\\\',\n",
       " ']',\n",
       " '^',\n",
       " '_',\n",
       " '`',\n",
       " '{',\n",
       " '|',\n",
       " '}',\n",
       " '~']"
      ]
     },
     "execution_count": 16,
     "metadata": {},
     "output_type": "execute_result"
    }
   ],
   "source": [
    "list(string.punctuation)"
   ]
  },
  {
   "cell_type": "code",
   "execution_count": 17,
   "metadata": {},
   "outputs": [
    {
     "data": {
      "text/plain": [
       "['a', 'b', 'c']"
      ]
     },
     "execution_count": 17,
     "metadata": {},
     "output_type": "execute_result"
    }
   ],
   "source": [
    "list('abc')"
   ]
  },
  {
   "cell_type": "code",
   "execution_count": 18,
   "metadata": {},
   "outputs": [],
   "source": [
    "def process_narrative(narrative):\n",
    "    tokens = nltk.word_tokenize(narrative)\n",
    "    stopwords_removed = [token.lower() for token in tokens if token.lower() not in stopwords_list]\n",
    "    return stopwords_removed  "
   ]
  },
  {
   "cell_type": "markdown",
   "metadata": {},
   "source": [
    "### Inspect and process first narrative "
   ]
  },
  {
   "cell_type": "code",
   "execution_count": 19,
   "metadata": {},
   "outputs": [
    {
     "data": {
      "text/plain": [
       "['caliber',\n",
       " 'loan',\n",
       " 'number',\n",
       " 'xxxx',\n",
       " 'xx/xx/2020',\n",
       " 'spoke',\n",
       " 'loan',\n",
       " 'agent',\n",
       " 'name',\n",
       " 'xxxx',\n",
       " 'xxxx',\n",
       " 'refinancing',\n",
       " 'options',\n",
       " 'interest',\n",
       " 'rates',\n",
       " 'asked',\n",
       " 'wanted',\n",
       " 'submit',\n",
       " 'loan',\n",
       " 'application',\n",
       " 'explicitly',\n",
       " 'told',\n",
       " 'filed',\n",
       " 'complaint',\n",
       " 'caliber',\n",
       " 'homes',\n",
       " 'excuse',\n",
       " 'reason',\n",
       " 'provided',\n",
       " 'unethical',\n",
       " 'actions',\n",
       " 'response',\n",
       " 'since',\n",
       " 'decided',\n",
       " 'move',\n",
       " 'forward',\n",
       " 'loan',\n",
       " 'refinance',\n",
       " 'process',\n",
       " 'loan',\n",
       " 'consultant',\n",
       " 'required',\n",
       " 'withdraw',\n",
       " 'application',\n",
       " 'system.',\n",
       " 'direct',\n",
       " 'quote',\n",
       " 'solves',\n",
       " 'problem',\n",
       " 'issue',\n",
       " 'told',\n",
       " 'submit',\n",
       " 'loan',\n",
       " 'application',\n",
       " 'first',\n",
       " 'place',\n",
       " 'beginning',\n",
       " 'call',\n",
       " 'recorded',\n",
       " 'end',\n",
       " 'caliber',\n",
       " 'saying',\n",
       " 'loan',\n",
       " 'number',\n",
       " 'required',\n",
       " 'opened',\n",
       " 'part',\n",
       " 'inquiry',\n",
       " 'loan',\n",
       " 'consultant',\n",
       " 'could',\n",
       " 'gather',\n",
       " 'information',\n",
       " 'able',\n",
       " 'provide',\n",
       " 'accurate',\n",
       " 'information',\n",
       " 'available',\n",
       " 'regards',\n",
       " 'refinance',\n",
       " 'options',\n",
       " 'even',\n",
       " 'case',\n",
       " 'told',\n",
       " 'upfront',\n",
       " 'even',\n",
       " 'ask',\n",
       " 'wanted',\n",
       " 'move',\n",
       " 'forward',\n",
       " 'submitting',\n",
       " 'loan',\n",
       " 'application',\n",
       " 'normal/routine',\n",
       " 'practice',\n",
       " 'spoken',\n",
       " 'plenty',\n",
       " 'refinance',\n",
       " 'companies',\n",
       " 'able',\n",
       " 'provide',\n",
       " 'information',\n",
       " 'requested',\n",
       " 'without',\n",
       " 'submitting',\n",
       " 'actual',\n",
       " 'loan',\n",
       " 'application',\n",
       " 'believe',\n",
       " 'trying',\n",
       " 'beef',\n",
       " 'numbers']"
      ]
     },
     "execution_count": 19,
     "metadata": {},
     "output_type": "execute_result"
    }
   ],
   "source": [
    "text_words = process_narrative(text)\n",
    "text_words"
   ]
  },
  {
   "cell_type": "code",
   "execution_count": 20,
   "metadata": {},
   "outputs": [],
   "source": [
    "# Add to stopwords list\n",
    "\n",
    "stopwords_list += ['--', 'xxxx', 'xx/xx/2020', 'xx/xx/2021']"
   ]
  },
  {
   "cell_type": "code",
   "execution_count": 21,
   "metadata": {},
   "outputs": [
    {
     "data": {
      "text/plain": [
       "{'caliber': 3,\n",
       " 'loan': 10,\n",
       " 'number': 2,\n",
       " 'spoke': 1,\n",
       " 'agent': 1,\n",
       " 'name': 1,\n",
       " 'refinancing': 1,\n",
       " 'options': 2,\n",
       " 'interest': 1,\n",
       " 'rates': 1,\n",
       " 'asked': 1,\n",
       " 'wanted': 2,\n",
       " 'submit': 2,\n",
       " 'application': 5,\n",
       " 'explicitly': 1,\n",
       " 'told': 3,\n",
       " 'filed': 1,\n",
       " 'complaint': 1,\n",
       " 'homes': 1,\n",
       " 'excuse': 1,\n",
       " 'reason': 1,\n",
       " 'provided': 1,\n",
       " 'unethical': 1,\n",
       " 'actions': 1,\n",
       " 'response': 1,\n",
       " 'since': 1,\n",
       " 'decided': 1,\n",
       " 'move': 2,\n",
       " 'forward': 2,\n",
       " 'refinance': 3,\n",
       " 'process': 1,\n",
       " 'consultant': 2,\n",
       " 'required': 2,\n",
       " 'withdraw': 1,\n",
       " 'system.': 1,\n",
       " 'direct': 1,\n",
       " 'quote': 1,\n",
       " 'solves': 1,\n",
       " 'problem': 1,\n",
       " 'issue': 1,\n",
       " 'first': 1,\n",
       " 'place': 1,\n",
       " 'beginning': 1,\n",
       " 'call': 1,\n",
       " 'recorded': 1,\n",
       " 'end': 1,\n",
       " 'saying': 1,\n",
       " 'opened': 1,\n",
       " 'part': 1,\n",
       " 'inquiry': 1,\n",
       " 'could': 1,\n",
       " 'gather': 1,\n",
       " 'information': 3,\n",
       " 'able': 2,\n",
       " 'provide': 2,\n",
       " 'accurate': 1,\n",
       " 'available': 1,\n",
       " 'regards': 1,\n",
       " 'even': 2,\n",
       " 'case': 1,\n",
       " 'upfront': 1,\n",
       " 'ask': 1,\n",
       " 'submitting': 2,\n",
       " 'normal/routine': 1,\n",
       " 'practice': 1,\n",
       " 'spoken': 1,\n",
       " 'plenty': 1,\n",
       " 'companies': 1,\n",
       " 'requested': 1,\n",
       " 'without': 1,\n",
       " 'actual': 1,\n",
       " 'believe': 1,\n",
       " 'trying': 1,\n",
       " 'beef': 1,\n",
       " 'numbers': 1}"
      ]
     },
     "execution_count": 21,
     "metadata": {},
     "output_type": "execute_result"
    }
   ],
   "source": [
    "# Check out word counts\n",
    "\n",
    "text_words = process_narrative(text)\n",
    "\n",
    "word_counts = {}\n",
    "for i in range(len(text_words)):\n",
    "    word_counts[text_words[i]] = text_words.count(text_words[i])\n",
    "word_counts"
   ]
  },
  {
   "cell_type": "markdown",
   "metadata": {},
   "source": [
    "It seems there are a lot of numbers. Update function to get rid of numbers from the list.  \n",
    "\n",
    "Note: this function also gets rid of strings with punctuation in it like 'xx/xx/xxxx' or \"n't\"."
   ]
  },
  {
   "cell_type": "code",
   "execution_count": 22,
   "metadata": {},
   "outputs": [],
   "source": [
    "def process_narrative(narrative):\n",
    "    tokens = nltk.word_tokenize(narrative)\n",
    "    stopwords_removed = [token.lower() for token in tokens if token.lower() not in stopwords_list]\n",
    "    \n",
    "    # adding line to remove all tokens with numbers and punctuation\n",
    "    stopwords_punc_and_numbers_removed = [word for word in stopwords_removed if word.isalpha()]\n",
    "    \n",
    "    return stopwords_punc_and_numbers_removed  "
   ]
  },
  {
   "cell_type": "code",
   "execution_count": 23,
   "metadata": {},
   "outputs": [],
   "source": [
    "# Redoing processing with updated function\n",
    "text_words = process_narrative(text)"
   ]
  },
  {
   "cell_type": "markdown",
   "metadata": {},
   "source": [
    "### Make dictionary of word counts"
   ]
  },
  {
   "cell_type": "code",
   "execution_count": 24,
   "metadata": {},
   "outputs": [
    {
     "data": {
      "text/plain": [
       "FreqDist({'loan': 10, 'application': 5, 'caliber': 3, 'told': 3, 'refinance': 3, 'information': 3, 'number': 2, 'options': 2, 'wanted': 2, 'submit': 2, ...})"
      ]
     },
     "execution_count": 24,
     "metadata": {},
     "output_type": "execute_result"
    }
   ],
   "source": [
    "FreqDist(text_words)"
   ]
  },
  {
   "cell_type": "code",
   "execution_count": 25,
   "metadata": {},
   "outputs": [
    {
     "data": {
      "text/plain": [
       "nltk.probability.FreqDist"
      ]
     },
     "execution_count": 25,
     "metadata": {},
     "output_type": "execute_result"
    }
   ],
   "source": [
    "type(FreqDist(text_words))"
   ]
  },
  {
   "cell_type": "code",
   "execution_count": 26,
   "metadata": {},
   "outputs": [
    {
     "data": {
      "text/plain": [
       "[('loan', 10),\n",
       " ('application', 5),\n",
       " ('caliber', 3),\n",
       " ('told', 3),\n",
       " ('refinance', 3),\n",
       " ('information', 3),\n",
       " ('number', 2),\n",
       " ('options', 2),\n",
       " ('wanted', 2),\n",
       " ('submit', 2)]"
      ]
     },
     "execution_count": 26,
     "metadata": {},
     "output_type": "execute_result"
    }
   ],
   "source": [
    "FreqDist(text_words).most_common(10)"
   ]
  },
  {
   "cell_type": "markdown",
   "metadata": {},
   "source": [
    "Note how calling `most_common()` creates a list of tuples."
   ]
  },
  {
   "cell_type": "code",
   "execution_count": 27,
   "metadata": {},
   "outputs": [
    {
     "data": {
      "image/png": "[encoded data removed]",
      "text/plain": [
       "<Figure size 432x288 with 1 Axes>"
      ]
     },
     "metadata": {
      "needs_background": "light"
     },
     "output_type": "display_data"
    },
    {
     "data": {
      "text/plain": [
       "<AxesSubplot:xlabel='Samples', ylabel='Counts'>"
      ]
     },
     "execution_count": 27,
     "metadata": {},
     "output_type": "execute_result"
    }
   ],
   "source": [
    "FreqDist(text_words).plot(10)"
   ]
  },
  {
   "cell_type": "markdown",
   "metadata": {},
   "source": [
    "### Trying process on the next two rows"
   ]
  },
  {
   "cell_type": "markdown",
   "metadata": {},
   "source": [
    "#### df.iloc[1]"
   ]
  },
  {
   "cell_type": "code",
   "execution_count": 28,
   "metadata": {},
   "outputs": [
    {
     "data": {
      "text/plain": [
       "product                         Debt collection\n",
       "subproduct                     Payday loan debt\n",
       "issue         Attempts to collect debt not owed\n",
       "subissue                          Debt was paid\n",
       "Name: 1, dtype: object"
      ]
     },
     "execution_count": 28,
     "metadata": {},
     "output_type": "execute_result"
    }
   ],
   "source": [
    "df.iloc[1][0:4]"
   ]
  },
  {
   "cell_type": "code",
   "execution_count": 29,
   "metadata": {},
   "outputs": [
    {
     "data": {
      "text/plain": [
       "\"Mr XXXX from direct recovery service called me about a debt from XXXX  XXXX. When I didn't call them back they called my parents on XX/XX/2020. I called him and got the information from him. His number to call back is XXXX ex XXXX. The reference number is XXXX. He offered me a reduce debt at {$130.00} for the XX/XX/XXXX loan of {$410.00} the loan is from XXXX. I called XXXX XXXX to see if I owed them money and it was paid off XXXX, I owe them nothing and it's a fraud attack from Mr. XXXX and the direct recovery services. Please do what is necessary to stop my harassment.\""
      ]
     },
     "execution_count": 29,
     "metadata": {},
     "output_type": "execute_result"
    }
   ],
   "source": [
    "text = df['narrative'][1]\n",
    "text"
   ]
  },
  {
   "cell_type": "code",
   "execution_count": 30,
   "metadata": {},
   "outputs": [
    {
     "data": {
      "text/html": [
       "<div>\n",
       "<style scoped>\n",
       "    .dataframe tbody tr th:only-of-type {\n",
       "        vertical-align: middle;\n",
       "    }\n",
       "\n",
       "    .dataframe tbody tr th {\n",
       "        vertical-align: top;\n",
       "    }\n",
       "\n",
       "    .dataframe thead th {\n",
       "        text-align: right;\n",
       "    }\n",
       "</style>\n",
       "<table border=\"1\" class=\"dataframe\">\n",
       "  <thead>\n",
       "    <tr style=\"text-align: right;\">\n",
       "      <th></th>\n",
       "      <th>product</th>\n",
       "      <th>subproduct</th>\n",
       "      <th>issue</th>\n",
       "      <th>subissue</th>\n",
       "      <th>narrative</th>\n",
       "    </tr>\n",
       "  </thead>\n",
       "  <tbody>\n",
       "    <tr>\n",
       "      <th>0</th>\n",
       "      <td>Mortgage</td>\n",
       "      <td>Conventional home mortgage</td>\n",
       "      <td>Applying for a mortgage or refinancing an exis...</td>\n",
       "      <td>None</td>\n",
       "      <td>Caliber Loan Number : XXXX On XX/XX/2020, I sp...</td>\n",
       "    </tr>\n",
       "    <tr>\n",
       "      <th>1</th>\n",
       "      <td>Debt collection</td>\n",
       "      <td>Payday loan debt</td>\n",
       "      <td>Attempts to collect debt not owed</td>\n",
       "      <td>Debt was paid</td>\n",
       "      <td>Mr XXXX from direct recovery service called me...</td>\n",
       "    </tr>\n",
       "    <tr>\n",
       "      <th>2</th>\n",
       "      <td>Credit reporting, credit repair services, or o...</td>\n",
       "      <td>Credit reporting</td>\n",
       "      <td>Incorrect information on your report</td>\n",
       "      <td>Old information reappears or never goes away</td>\n",
       "      <td>This closed XXXX XXXX account ( last four XXXX...</td>\n",
       "    </tr>\n",
       "    <tr>\n",
       "      <th>3</th>\n",
       "      <td>Credit reporting, credit repair services, or o...</td>\n",
       "      <td>Credit reporting</td>\n",
       "      <td>Problem with a credit reporting company's inve...</td>\n",
       "      <td>Investigation took more than 30 days</td>\n",
       "      <td>THESE ACCOUNTS WAS LISTED ON MY CREDIT REPORT ...</td>\n",
       "    </tr>\n",
       "    <tr>\n",
       "      <th>4</th>\n",
       "      <td>Credit reporting, credit repair services, or o...</td>\n",
       "      <td>Credit reporting</td>\n",
       "      <td>Problem with a credit reporting company's inve...</td>\n",
       "      <td>Investigation took more than 30 days</td>\n",
       "      <td>I reviewed a copy of my credit report and show...</td>\n",
       "    </tr>\n",
       "    <tr>\n",
       "      <th>...</th>\n",
       "      <td>...</td>\n",
       "      <td>...</td>\n",
       "      <td>...</td>\n",
       "      <td>...</td>\n",
       "      <td>...</td>\n",
       "    </tr>\n",
       "    <tr>\n",
       "      <th>189153</th>\n",
       "      <td>Money transfer, virtual currency, or money ser...</td>\n",
       "      <td>Domestic (US) money transfer</td>\n",
       "      <td>Fraud or scam</td>\n",
       "      <td>None</td>\n",
       "      <td>This is the messages I have sent to cash app w...</td>\n",
       "    </tr>\n",
       "    <tr>\n",
       "      <th>189154</th>\n",
       "      <td>Checking or savings account</td>\n",
       "      <td>Other banking product or service</td>\n",
       "      <td>Problem with a lender or other company chargin...</td>\n",
       "      <td>Money was taken from your account on the wrong...</td>\n",
       "      <td>On XX/XX/21 while in an emergency XXXX- I rece...</td>\n",
       "    </tr>\n",
       "    <tr>\n",
       "      <th>189155</th>\n",
       "      <td>Payday loan, title loan, or personal loan</td>\n",
       "      <td>Title loan</td>\n",
       "      <td>Charged fees or interest you didn't expect</td>\n",
       "      <td>None</td>\n",
       "      <td>I took out a loan back in XXXX of XXXX for {$4...</td>\n",
       "    </tr>\n",
       "    <tr>\n",
       "      <th>189156</th>\n",
       "      <td>Debt collection</td>\n",
       "      <td>I do not know</td>\n",
       "      <td>Attempts to collect debt not owed</td>\n",
       "      <td>Debt was result of identity theft</td>\n",
       "      <td>I have a fraudulent account on my credit repor...</td>\n",
       "    </tr>\n",
       "    <tr>\n",
       "      <th>189157</th>\n",
       "      <td>Vehicle loan or lease</td>\n",
       "      <td>Lease</td>\n",
       "      <td>Struggling to pay your loan</td>\n",
       "      <td>Denied request to lower payments</td>\n",
       "      <td>I have tried to explain i lost job due to covo...</td>\n",
       "    </tr>\n",
       "  </tbody>\n",
       "</table>\n",
       "<p>189158 rows × 5 columns</p>\n",
       "</div>"
      ],
      "text/plain": [
       "                                                  product  \\\n",
       "0                                                Mortgage   \n",
       "1                                         Debt collection   \n",
       "2       Credit reporting, credit repair services, or o...   \n",
       "3       Credit reporting, credit repair services, or o...   \n",
       "4       Credit reporting, credit repair services, or o...   \n",
       "...                                                   ...   \n",
       "189153  Money transfer, virtual currency, or money ser...   \n",
       "189154                        Checking or savings account   \n",
       "189155          Payday loan, title loan, or personal loan   \n",
       "189156                                    Debt collection   \n",
       "189157                              Vehicle loan or lease   \n",
       "\n",
       "                              subproduct  \\\n",
       "0             Conventional home mortgage   \n",
       "1                       Payday loan debt   \n",
       "2                       Credit reporting   \n",
       "3                       Credit reporting   \n",
       "4                       Credit reporting   \n",
       "...                                  ...   \n",
       "189153      Domestic (US) money transfer   \n",
       "189154  Other banking product or service   \n",
       "189155                        Title loan   \n",
       "189156                     I do not know   \n",
       "189157                             Lease   \n",
       "\n",
       "                                                    issue  \\\n",
       "0       Applying for a mortgage or refinancing an exis...   \n",
       "1                       Attempts to collect debt not owed   \n",
       "2                    Incorrect information on your report   \n",
       "3       Problem with a credit reporting company's inve...   \n",
       "4       Problem with a credit reporting company's inve...   \n",
       "...                                                   ...   \n",
       "189153                                      Fraud or scam   \n",
       "189154  Problem with a lender or other company chargin...   \n",
       "189155         Charged fees or interest you didn't expect   \n",
       "189156                  Attempts to collect debt not owed   \n",
       "189157                        Struggling to pay your loan   \n",
       "\n",
       "                                                 subissue  \\\n",
       "0                                                    None   \n",
       "1                                           Debt was paid   \n",
       "2            Old information reappears or never goes away   \n",
       "3                    Investigation took more than 30 days   \n",
       "4                    Investigation took more than 30 days   \n",
       "...                                                   ...   \n",
       "189153                                               None   \n",
       "189154  Money was taken from your account on the wrong...   \n",
       "189155                                               None   \n",
       "189156                  Debt was result of identity theft   \n",
       "189157                   Denied request to lower payments   \n",
       "\n",
       "                                                narrative  \n",
       "0       Caliber Loan Number : XXXX On XX/XX/2020, I sp...  \n",
       "1       Mr XXXX from direct recovery service called me...  \n",
       "2       This closed XXXX XXXX account ( last four XXXX...  \n",
       "3       THESE ACCOUNTS WAS LISTED ON MY CREDIT REPORT ...  \n",
       "4       I reviewed a copy of my credit report and show...  \n",
       "...                                                   ...  \n",
       "189153  This is the messages I have sent to cash app w...  \n",
       "189154  On XX/XX/21 while in an emergency XXXX- I rece...  \n",
       "189155  I took out a loan back in XXXX of XXXX for {$4...  \n",
       "189156  I have a fraudulent account on my credit repor...  \n",
       "189157  I have tried to explain i lost job due to covo...  \n",
       "\n",
       "[189158 rows x 5 columns]"
      ]
     },
     "execution_count": 30,
     "metadata": {},
     "output_type": "execute_result"
    }
   ],
   "source": [
    "df"
   ]
  },
  {
   "cell_type": "code",
   "execution_count": 31,
   "metadata": {},
   "outputs": [],
   "source": [
    "text_words = process_narrative(text)"
   ]
  },
  {
   "cell_type": "code",
   "execution_count": 32,
   "metadata": {},
   "outputs": [
    {
     "data": {
      "text/plain": [
       "[('called', 4),\n",
       " ('direct', 2),\n",
       " ('recovery', 2),\n",
       " ('debt', 2),\n",
       " ('call', 2),\n",
       " ('back', 2),\n",
       " ('number', 2),\n",
       " ('loan', 2),\n",
       " ('mr', 1),\n",
       " ('service', 1),\n",
       " ('parents', 1),\n",
       " ('got', 1),\n",
       " ('information', 1),\n",
       " ('ex', 1),\n",
       " ('reference', 1),\n",
       " ('offered', 1),\n",
       " ('reduce', 1),\n",
       " ('see', 1),\n",
       " ('owed', 1),\n",
       " ('money', 1),\n",
       " ('paid', 1),\n",
       " ('owe', 1),\n",
       " ('nothing', 1),\n",
       " ('fraud', 1),\n",
       " ('attack', 1),\n",
       " ('services', 1),\n",
       " ('please', 1),\n",
       " ('necessary', 1),\n",
       " ('stop', 1),\n",
       " ('harassment', 1)]"
      ]
     },
     "execution_count": 32,
     "metadata": {},
     "output_type": "execute_result"
    }
   ],
   "source": [
    "FreqDist(text_words).most_common(30)"
   ]
  },
  {
   "cell_type": "markdown",
   "metadata": {},
   "source": [
    "#### df.iloc[2]"
   ]
  },
  {
   "cell_type": "code",
   "execution_count": 33,
   "metadata": {},
   "outputs": [
    {
     "data": {
      "text/plain": [
       "product       Credit reporting, credit repair services, or o...\n",
       "subproduct                                     Credit reporting\n",
       "issue                      Incorrect information on your report\n",
       "subissue           Old information reappears or never goes away\n",
       "Name: 2, dtype: object"
      ]
     },
     "execution_count": 33,
     "metadata": {},
     "output_type": "execute_result"
    }
   ],
   "source": [
    "df.iloc[2][0:4]"
   ]
  },
  {
   "cell_type": "code",
   "execution_count": 34,
   "metadata": {},
   "outputs": [
    {
     "data": {
      "text/plain": [
       "[('closed', 2),\n",
       " ('account', 2),\n",
       " ('last', 1),\n",
       " ('four', 1),\n",
       " ('shows', 1),\n",
       " ('years', 1),\n",
       " ('months', 1),\n",
       " ('old', 1),\n",
       " ('credit', 1),\n",
       " ('removed', 1)]"
      ]
     },
     "execution_count": 34,
     "metadata": {},
     "output_type": "execute_result"
    }
   ],
   "source": [
    "text = df['narrative'][2]\n",
    "text_words = process_narrative(text)\n",
    "FreqDist(text_words).most_common(30)"
   ]
  },
  {
   "cell_type": "code",
   "execution_count": 35,
   "metadata": {},
   "outputs": [
    {
     "data": {
      "text/plain": [
       "product       Credit reporting, credit repair services, or o...\n",
       "subproduct                                     Credit reporting\n",
       "issue                      Incorrect information on your report\n",
       "subissue           Old information reappears or never goes away\n",
       "narrative     This closed XXXX XXXX account ( last four XXXX...\n",
       "Name: 2, dtype: object"
      ]
     },
     "execution_count": 35,
     "metadata": {},
     "output_type": "execute_result"
    }
   ],
   "source": [
    "df.iloc[2]"
   ]
  },
  {
   "cell_type": "markdown",
   "metadata": {},
   "source": [
    "# Combine categories and create new dataframes"
   ]
  },
  {
   "cell_type": "markdown",
   "metadata": {},
   "source": [
    "## Inspect "
   ]
  },
  {
   "cell_type": "code",
   "execution_count": 36,
   "metadata": {},
   "outputs": [
    {
     "data": {
      "text/plain": [
       "Credit reporting, credit repair services, or other personal consumer reports    103116\n",
       "Debt collection                                                                  28593\n",
       "Credit card or prepaid card                                                      17991\n",
       "Mortgage                                                                         13884\n",
       "Checking or savings account                                                      10723\n",
       "Money transfer, virtual currency, or money service                                6180\n",
       "Vehicle loan or lease                                                             4171\n",
       "Payday loan, title loan, or personal loan                                         2321\n",
       "Student loan                                                                      2179\n",
       "Name: product, dtype: int64"
      ]
     },
     "execution_count": 36,
     "metadata": {},
     "output_type": "execute_result"
    }
   ],
   "source": [
    "# Inspect products again\n",
    "df['product'].value_counts()"
   ]
  },
  {
   "cell_type": "markdown",
   "metadata": {},
   "source": [
    "What is \"Money transfer, virtual currency, or money service\"?"
   ]
  },
  {
   "cell_type": "code",
   "execution_count": 43,
   "metadata": {},
   "outputs": [],
   "source": [
    "df = df[ (df['product'] != \"Debt collection\" ) & \n",
    "        (df['product'] != \"Money transfer, virtual currency, or money service\") & \n",
    "       (df['product'] != \"Checking or savings account\")]"
   ]
  },
  {
   "cell_type": "code",
   "execution_count": 44,
   "metadata": {},
   "outputs": [
    {
     "data": {
      "text/plain": [
       "Credit reporting, credit repair services, or other personal consumer reports    103116\n",
       "Credit card or prepaid card                                                      17991\n",
       "Mortgage                                                                         13884\n",
       "Vehicle loan or lease                                                             4171\n",
       "Payday loan, title loan, or personal loan                                         2321\n",
       "Student loan                                                                      2179\n",
       "Name: product, dtype: int64"
      ]
     },
     "execution_count": 44,
     "metadata": {},
     "output_type": "execute_result"
    }
   ],
   "source": [
    "df['product'].value_counts()"
   ]
  },
  {
   "cell_type": "code",
   "execution_count": 45,
   "metadata": {},
   "outputs": [
    {
     "data": {
      "text/html": [
       "<div>\n",
       "<style scoped>\n",
       "    .dataframe tbody tr th:only-of-type {\n",
       "        vertical-align: middle;\n",
       "    }\n",
       "\n",
       "    .dataframe tbody tr th {\n",
       "        vertical-align: top;\n",
       "    }\n",
       "\n",
       "    .dataframe thead th {\n",
       "        text-align: right;\n",
       "    }\n",
       "</style>\n",
       "<table border=\"1\" class=\"dataframe\">\n",
       "  <thead>\n",
       "    <tr style=\"text-align: right;\">\n",
       "      <th></th>\n",
       "      <th>product</th>\n",
       "      <th>subproduct</th>\n",
       "      <th>issue</th>\n",
       "      <th>subissue</th>\n",
       "      <th>narrative</th>\n",
       "    </tr>\n",
       "  </thead>\n",
       "  <tbody>\n",
       "  </tbody>\n",
       "</table>\n",
       "</div>"
      ],
      "text/plain": [
       "Empty DataFrame\n",
       "Columns: [product, subproduct, issue, subissue, narrative]\n",
       "Index: []"
      ]
     },
     "execution_count": 45,
     "metadata": {},
     "output_type": "execute_result"
    }
   ],
   "source": [
    "df[df['product'] == \"Money transfer, virtual currency, or money service\"].head(10)"
   ]
  },
  {
   "cell_type": "code",
   "execution_count": 46,
   "metadata": {},
   "outputs": [
    {
     "data": {
      "text/html": [
       "<div>\n",
       "<style scoped>\n",
       "    .dataframe tbody tr th:only-of-type {\n",
       "        vertical-align: middle;\n",
       "    }\n",
       "\n",
       "    .dataframe tbody tr th {\n",
       "        vertical-align: top;\n",
       "    }\n",
       "\n",
       "    .dataframe thead th {\n",
       "        text-align: right;\n",
       "    }\n",
       "</style>\n",
       "<table border=\"1\" class=\"dataframe\">\n",
       "  <thead>\n",
       "    <tr style=\"text-align: right;\">\n",
       "      <th></th>\n",
       "      <th>product</th>\n",
       "      <th>subproduct</th>\n",
       "      <th>issue</th>\n",
       "      <th>subissue</th>\n",
       "      <th>narrative</th>\n",
       "    </tr>\n",
       "  </thead>\n",
       "  <tbody>\n",
       "  </tbody>\n",
       "</table>\n",
       "</div>"
      ],
      "text/plain": [
       "Empty DataFrame\n",
       "Columns: [product, subproduct, issue, subissue, narrative]\n",
       "Index: []"
      ]
     },
     "execution_count": 46,
     "metadata": {},
     "output_type": "execute_result"
    }
   ],
   "source": [
    "df[df['product'] == \"Checking or savings account\"].head(10)"
   ]
  },
  {
   "cell_type": "markdown",
   "metadata": {},
   "source": [
    "Seems to be about Venmo, digital transactions, international transfers, etc. It's a bit of it's own thing. I'll keep it for now, but there are only 4,602 entries. But I'll fold into \"checking and savings\" in general, which has only 9,000."
   ]
  },
  {
   "cell_type": "markdown",
   "metadata": {},
   "source": [
    "## Combine categories"
   ]
  },
  {
   "cell_type": "markdown",
   "metadata": {},
   "source": [
    "**Tasks**\n",
    "\n",
    "- Rename \"credit_reporting\"  \n",
    "- Rename \"debt_collection\"  \n",
    "- Rename \"credit_card\"\n",
    "- Rename \"mortgage\"\n",
    "- Combine \"checking\" and \"money transfer\" into \"retail_banking\"\n",
    "- Combine the loans into \"loans\""
   ]
  },
  {
   "cell_type": "code",
   "execution_count": 52,
   "metadata": {},
   "outputs": [
    {
     "data": {
      "text/plain": [
       "credit_related    121107\n",
       "loans              22555\n",
       "Name: product, dtype: int64"
      ]
     },
     "execution_count": 52,
     "metadata": {},
     "output_type": "execute_result"
    }
   ],
   "source": [
    "df['product'].value_counts()"
   ]
  },
  {
   "cell_type": "code",
   "execution_count": 55,
   "metadata": {},
   "outputs": [],
   "source": [
    "df['product'].replace({'Credit reporting, credit repair services, or other personal consumer reports': 'credit_related',\n",
    "                       'Credit card or prepaid card': 'credit_related',\n",
    "                       'Mortgage': 'Mortgage and loans',\n",
    "                       'Vehicle loan or lease': 'Mortgage and loans',\n",
    "                       'Payday loan, title loan, or personal loan': 'Mortgage and loans',\n",
    "                       'Student loan': 'Mortgage and loans'}, inplace=True)"
   ]
  },
  {
   "cell_type": "code",
   "execution_count": 56,
   "metadata": {},
   "outputs": [
    {
     "data": {
      "text/plain": [
       "credit_related    121107\n",
       "loans              22555\n",
       "Name: product, dtype: int64"
      ]
     },
     "execution_count": 56,
     "metadata": {},
     "output_type": "execute_result"
    }
   ],
   "source": [
    "df['product'].value_counts()"
   ]
  },
  {
   "cell_type": "markdown",
   "metadata": {},
   "source": [
    "Mortgage and loans are the smallest. Since they're both types of loans, I'll combine them."
   ]
  },
  {
   "cell_type": "code",
   "execution_count": 57,
   "metadata": {},
   "outputs": [
    {
     "data": {
      "text/plain": [
       "credit_related         121107\n",
       "mortgages_and_loans     22555\n",
       "Name: product, dtype: int64"
      ]
     },
     "execution_count": 57,
     "metadata": {},
     "output_type": "execute_result"
    }
   ],
   "source": [
    "df['product'].replace({'mortgage': 'mortgages_and_loans',\n",
    "                       'loans': 'mortgages_and_loans'}, inplace=True)\n",
    "df['product'].value_counts()"
   ]
  },
  {
   "cell_type": "markdown",
   "metadata": {},
   "source": [
    "## Create new dataframes"
   ]
  },
  {
   "cell_type": "code",
   "execution_count": 60,
   "metadata": {},
   "outputs": [],
   "source": [
    "credit_related_df = df[df['product'] == 'credit_related']\n",
    "# debt_collection_df = df[df['product'] == 'debt_collection']\n",
    "mortgages_and_loans_df = df[df['product'] == 'mortgages_and_loans']\n",
    "# credit_card_df = df[df['product'] == 'credit_card']\n",
    "# retail_banking_df = df[df['product'] == 'retail_banking']"
   ]
  },
  {
   "cell_type": "markdown",
   "metadata": {},
   "source": [
    "## Concatenate all the narratives into a single string per class"
   ]
  },
  {
   "cell_type": "code",
   "execution_count": 61,
   "metadata": {},
   "outputs": [
    {
     "data": {
      "text/html": [
       "<div>\n",
       "<style scoped>\n",
       "    .dataframe tbody tr th:only-of-type {\n",
       "        vertical-align: middle;\n",
       "    }\n",
       "\n",
       "    .dataframe tbody tr th {\n",
       "        vertical-align: top;\n",
       "    }\n",
       "\n",
       "    .dataframe thead th {\n",
       "        text-align: right;\n",
       "    }\n",
       "</style>\n",
       "<table border=\"1\" class=\"dataframe\">\n",
       "  <thead>\n",
       "    <tr style=\"text-align: right;\">\n",
       "      <th></th>\n",
       "      <th>product</th>\n",
       "      <th>subproduct</th>\n",
       "      <th>issue</th>\n",
       "      <th>subissue</th>\n",
       "      <th>narrative</th>\n",
       "    </tr>\n",
       "  </thead>\n",
       "  <tbody>\n",
       "    <tr>\n",
       "      <th>2</th>\n",
       "      <td>credit_related</td>\n",
       "      <td>Credit reporting</td>\n",
       "      <td>Incorrect information on your report</td>\n",
       "      <td>Old information reappears or never goes away</td>\n",
       "      <td>This closed XXXX XXXX account ( last four XXXX...</td>\n",
       "    </tr>\n",
       "    <tr>\n",
       "      <th>3</th>\n",
       "      <td>credit_related</td>\n",
       "      <td>Credit reporting</td>\n",
       "      <td>Problem with a credit reporting company's inve...</td>\n",
       "      <td>Investigation took more than 30 days</td>\n",
       "      <td>THESE ACCOUNTS WAS LISTED ON MY CREDIT REPORT ...</td>\n",
       "    </tr>\n",
       "    <tr>\n",
       "      <th>4</th>\n",
       "      <td>credit_related</td>\n",
       "      <td>Credit reporting</td>\n",
       "      <td>Problem with a credit reporting company's inve...</td>\n",
       "      <td>Investigation took more than 30 days</td>\n",
       "      <td>I reviewed a copy of my credit report and show...</td>\n",
       "    </tr>\n",
       "    <tr>\n",
       "      <th>7</th>\n",
       "      <td>credit_related</td>\n",
       "      <td>Credit reporting</td>\n",
       "      <td>Problem with a credit reporting company's inve...</td>\n",
       "      <td>Investigation took more than 30 days</td>\n",
       "      <td>THESE ACCOUNTS WAS LISTED ON MY CREDIT REPORT ...</td>\n",
       "    </tr>\n",
       "    <tr>\n",
       "      <th>11</th>\n",
       "      <td>credit_related</td>\n",
       "      <td>Credit reporting</td>\n",
       "      <td>Problem with a credit reporting company's inve...</td>\n",
       "      <td>Was not notified of investigation status or re...</td>\n",
       "      <td>It would be ideal if you be exhorted that I ha...</td>\n",
       "    </tr>\n",
       "  </tbody>\n",
       "</table>\n",
       "</div>"
      ],
      "text/plain": [
       "           product        subproduct  \\\n",
       "2   credit_related  Credit reporting   \n",
       "3   credit_related  Credit reporting   \n",
       "4   credit_related  Credit reporting   \n",
       "7   credit_related  Credit reporting   \n",
       "11  credit_related  Credit reporting   \n",
       "\n",
       "                                                issue  \\\n",
       "2                Incorrect information on your report   \n",
       "3   Problem with a credit reporting company's inve...   \n",
       "4   Problem with a credit reporting company's inve...   \n",
       "7   Problem with a credit reporting company's inve...   \n",
       "11  Problem with a credit reporting company's inve...   \n",
       "\n",
       "                                             subissue  \\\n",
       "2        Old information reappears or never goes away   \n",
       "3                Investigation took more than 30 days   \n",
       "4                Investigation took more than 30 days   \n",
       "7                Investigation took more than 30 days   \n",
       "11  Was not notified of investigation status or re...   \n",
       "\n",
       "                                            narrative  \n",
       "2   This closed XXXX XXXX account ( last four XXXX...  \n",
       "3   THESE ACCOUNTS WAS LISTED ON MY CREDIT REPORT ...  \n",
       "4   I reviewed a copy of my credit report and show...  \n",
       "7   THESE ACCOUNTS WAS LISTED ON MY CREDIT REPORT ...  \n",
       "11  It would be ideal if you be exhorted that I ha...  "
      ]
     },
     "execution_count": 61,
     "metadata": {},
     "output_type": "execute_result"
    }
   ],
   "source": [
    "credit_related_df.head()"
   ]
  },
  {
   "cell_type": "code",
   "execution_count": 62,
   "metadata": {},
   "outputs": [],
   "source": [
    "def concat_narratives(df):\n",
    "    # concat narratives\n",
    "    narr = ''\n",
    "    for i in range(len(df)):\n",
    "        narr += df.iloc[i]['narrative']\n",
    "    print('Finished Concatenation')\n",
    "    return narr"
   ]
  },
  {
   "cell_type": "code",
   "execution_count": 65,
   "metadata": {},
   "outputs": [
    {
     "name": "stdout",
     "output_type": "stream",
     "text": [
      "Finished Concatenation\n"
     ]
    }
   ],
   "source": [
    "credit_related_text = concat_narratives(credit_related_df)\n",
    "credit_related_text_processed = process_narrative(credit_related_text)"
   ]
  },
  {
   "cell_type": "code",
   "execution_count": 67,
   "metadata": {},
   "outputs": [],
   "source": [
    "# debt_collection_text = concat_narratives(debt_collection_df)\n",
    "# debt_collection_text_processed = process_narrative(debt_collection_text)"
   ]
  },
  {
   "cell_type": "code",
   "execution_count": 68,
   "metadata": {},
   "outputs": [
    {
     "name": "stdout",
     "output_type": "stream",
     "text": [
      "Finished Concatenation\n"
     ]
    }
   ],
   "source": [
    "mortgages_and_loans_text = concat_narratives(mortgages_and_loans_df)\n",
    "mortgages_and_loans_text_processed = process_narrative(mortgages_and_loans_text)"
   ]
  },
  {
   "cell_type": "code",
   "execution_count": 69,
   "metadata": {},
   "outputs": [],
   "source": [
    "# credit_card_text = concat_narratives(credit_card_df)\n",
    "# credit_card_text_processed = process_narrative(credit_card_text)"
   ]
  },
  {
   "cell_type": "code",
   "execution_count": 70,
   "metadata": {},
   "outputs": [],
   "source": [
    "# retail_banking_text = concat_narratives(retail_banking_df)\n",
    "# retail_banking_text_processed = process_narrative(retail_banking_text)"
   ]
  },
  {
   "cell_type": "markdown",
   "metadata": {},
   "source": [
    "### Saving the text files"
   ]
  },
  {
   "cell_type": "code",
   "execution_count": 71,
   "metadata": {},
   "outputs": [],
   "source": [
    "text_file = open('credit_related_text.txt', 'w')\n",
    "text_file.write(credit_reporting_text)\n",
    "text_file.close()"
   ]
  },
  {
   "cell_type": "code",
   "execution_count": 72,
   "metadata": {},
   "outputs": [],
   "source": [
    "# text_file = open('debt_collection_text.txt', 'w')\n",
    "# text_file.write(debt_collection_text)\n",
    "# text_file.close()"
   ]
  },
  {
   "cell_type": "code",
   "execution_count": 73,
   "metadata": {},
   "outputs": [],
   "source": [
    "text_file = open('mortgages_and_loans_text.txt', 'w')\n",
    "mortgages_and_loans_text = mortgages_and_loans_text.replace('\\x82', '')\n",
    "text_file.write(mortgages_and_loans_text)\n",
    "text_file.close()"
   ]
  },
  {
   "cell_type": "code",
   "execution_count": 74,
   "metadata": {},
   "outputs": [],
   "source": [
    "# text_file = open('credit_card_text.txt', 'w')\n",
    "# text_file.write(credit_card_text)\n",
    "# text_file.close()"
   ]
  },
  {
   "cell_type": "code",
   "execution_count": 75,
   "metadata": {},
   "outputs": [],
   "source": [
    "# text_file = open('retail_banking_text.txt', 'w')\n",
    "# text_file.write(retail_banking_text)\n",
    "# text_file.close()"
   ]
  },
  {
   "cell_type": "markdown",
   "metadata": {},
   "source": [
    "### Saving the processed text (lists) files"
   ]
  },
  {
   "cell_type": "code",
   "execution_count": 76,
   "metadata": {},
   "outputs": [],
   "source": [
    "temp = pd.DataFrame(credit_related_text_processed)\n",
    "temp.to_csv('credit_related_text_processed.csv')"
   ]
  },
  {
   "cell_type": "code",
   "execution_count": 77,
   "metadata": {},
   "outputs": [],
   "source": [
    "# temp = pd.DataFrame(debt_collection_text_processed)\n",
    "# temp.to_csv('debt_collection_text_processed.csv')"
   ]
  },
  {
   "cell_type": "code",
   "execution_count": 78,
   "metadata": {},
   "outputs": [],
   "source": [
    "temp = pd.DataFrame(mortgages_and_loans_text_processed)\n",
    "temp.to_csv('mortgages_and_loans_text_processed.csv')"
   ]
  },
  {
   "cell_type": "code",
   "execution_count": 79,
   "metadata": {},
   "outputs": [],
   "source": [
    "# temp = pd.DataFrame(credit_card_text_processed)\n",
    "# temp.to_csv('credit_card_text_processed.csv')"
   ]
  },
  {
   "cell_type": "code",
   "execution_count": 80,
   "metadata": {},
   "outputs": [],
   "source": [
    "# temp = pd.DataFrame(retail_banking_text_processed)\n",
    "# temp.to_csv('retail_banking_text_processed.csv')"
   ]
  },
  {
   "cell_type": "markdown",
   "metadata": {},
   "source": [
    "## Check `FreqDist()`"
   ]
  },
  {
   "cell_type": "code",
   "execution_count": 81,
   "metadata": {},
   "outputs": [],
   "source": [
    "# FreqDist(debt_collection_text_processed).most_common(30)"
   ]
  },
  {
   "cell_type": "code",
   "execution_count": 82,
   "metadata": {},
   "outputs": [
    {
     "data": {
      "text/plain": [
       "[('credit', 278577),\n",
       " ('account', 158581),\n",
       " ('report', 138310),\n",
       " ('information', 113233),\n",
       " ('reporting', 86024),\n",
       " ('accounts', 77990),\n",
       " ('card', 57660),\n",
       " ('consumer', 47539),\n",
       " ('dispute', 46923),\n",
       " ('payment', 46118),\n",
       " ('received', 42389),\n",
       " ('days', 40803),\n",
       " ('would', 40045),\n",
       " ('sent', 39043),\n",
       " ('never', 38586),\n",
       " ('also', 38197),\n",
       " ('please', 37498),\n",
       " ('balance', 37289),\n",
       " ('identity', 37065),\n",
       " ('late', 36596),\n",
       " ('company', 34961),\n",
       " ('letter', 33847),\n",
       " ('time', 33709),\n",
       " ('due', 32516),\n",
       " ('remove', 32436),\n",
       " ('date', 32180),\n",
       " ('bureaus', 31157),\n",
       " ('file', 30950),\n",
       " ('number', 30915),\n",
       " ('reported', 30816)]"
      ]
     },
     "execution_count": 82,
     "metadata": {},
     "output_type": "execute_result"
    }
   ],
   "source": [
    "FreqDist(credit_related_text_processed).most_common(30)"
   ]
  },
  {
   "cell_type": "code",
   "execution_count": 83,
   "metadata": {},
   "outputs": [],
   "source": [
    "# FreqDist(credit_card_text_processed).most_common(30)"
   ]
  },
  {
   "cell_type": "code",
   "execution_count": 84,
   "metadata": {},
   "outputs": [],
   "source": [
    "# FreqDist(retail_banking_text_processed).most_common(30)"
   ]
  },
  {
   "cell_type": "code",
   "execution_count": 85,
   "metadata": {},
   "outputs": [
    {
     "data": {
      "text/plain": [
       "[('loan', 46243),\n",
       " ('payment', 35333),\n",
       " ('mortgage', 30961),\n",
       " ('would', 26980),\n",
       " ('account', 21029),\n",
       " ('payments', 20665),\n",
       " ('told', 18900),\n",
       " ('credit', 18410),\n",
       " ('received', 17303),\n",
       " ('company', 15733),\n",
       " ('time', 15524),\n",
       " ('called', 14607),\n",
       " ('due', 14115),\n",
       " ('bank', 13638),\n",
       " ('pay', 13154),\n",
       " ('get', 13103),\n",
       " ('back', 12896),\n",
       " ('paid', 12895),\n",
       " ('call', 12831),\n",
       " ('sent', 12117),\n",
       " ('amount', 11849),\n",
       " ('made', 10920),\n",
       " ('said', 10748),\n",
       " ('home', 10690),\n",
       " ('never', 10669),\n",
       " ('information', 10515),\n",
       " ('could', 10115),\n",
       " ('one', 9865),\n",
       " ('also', 9646),\n",
       " ('interest', 9512)]"
      ]
     },
     "execution_count": 85,
     "metadata": {},
     "output_type": "execute_result"
    }
   ],
   "source": [
    "FreqDist(mortgages_and_loans_text_processed).most_common(30)"
   ]
  },
  {
   "cell_type": "code",
   "execution_count": null,
   "metadata": {},
   "outputs": [],
   "source": []
  }
 ],
 "metadata": {
  "kernelspec": {
   "display_name": "Python 3 (ipykernel)",
   "language": "python",
   "name": "python3"
  },
  "language_info": {
   "codemirror_mode": {
    "name": "ipython",
    "version": 3
   },
   "file_extension": ".py",
   "mimetype": "text/x-python",
   "name": "python",
   "nbconvert_exporter": "python",
   "pygments_lexer": "ipython3",
   "version": "3.8.11"
  },
  "toc-autonumbering": false,
  "toc-showcode": false,
  "toc-showmarkdowntxt": false,
  "varInspector": {
   "cols": {
    "lenName": 16,
    "lenType": 16,
    "lenVar": 40
   },
   "kernels_config": {
    "python": {
     "delete_cmd_postfix": "",
     "delete_cmd_prefix": "del ",
     "library": "var_list.py",
     "varRefreshCmd": "print(var_dic_list())"
    },
    "r": {
     "delete_cmd_postfix": ") ",
     "delete_cmd_prefix": "rm(",
     "library": "var_list.r",
     "varRefreshCmd": "cat(var_dic_list()) "
    }
   },
   "types_to_exclude": [
    "module",
    "function",
    "builtin_function_or_method",
    "instance",
    "_Feature"
   ],
   "window_display": false
  }
 },
 "nbformat": 4,
 "nbformat_minor": 4
}
