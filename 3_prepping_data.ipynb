{
 "cells": [
  {
   "cell_type": "markdown",
   "metadata": {},
   "source": [
    "# Import libraries and load text"
   ]
  },
  {
   "cell_type": "code",
   "execution_count": 64,
   "metadata": {},
   "outputs": [],
   "source": [
    "import pandas as pd\n",
    "import numpy as np\n",
    "import nltk\n",
    "from nltk.corpus import stopwords\n",
    "from nltk import word_tokenize, FreqDist\n",
    "from nltk.stem.wordnet import WordNetLemmatizer\n",
    "import string\n",
    "import plotly\n",
    "import plotly.graph_objects as go\n",
    "import plotly.express as px\n",
    "from sklearn.feature_extraction.text import TfidfVectorizer, CountVectorizer"
   ]
  },
  {
   "cell_type": "code",
   "execution_count": 65,
   "metadata": {},
   "outputs": [
    {
     "name": "stdout",
     "output_type": "stream",
     "text": [
      "Credit reporting, credit repair services, or other personal consumer reports    103116\n",
      "Debt collection                                                                  28593\n",
      "Credit card or prepaid card                                                      17991\n",
      "Mortgage                                                                         13884\n",
      "Checking or savings account                                                      10723\n",
      "Money transfer, virtual currency, or money service                                6180\n",
      "Vehicle loan or lease                                                             4171\n",
      "Payday loan, title loan, or personal loan                                         2321\n",
      "Student loan                                                                      2179\n",
      "Name: product, dtype: int64\n"
     ]
    }
   ],
   "source": [
    "# Prepping dataframe as done in 1_EDA.ipynb\n",
    "\n",
    "df = pd.read_csv('complaints_1year.csv')\n",
    "df = df[['Product', 'Consumer complaint narrative']]\n",
    "\n",
    "df = df.rename(columns={\"Product\": \"product\", \"Consumer complaint narrative\": \"narrative\"})\n",
    "# df = df[ (df['product'] != \"Debt collection\" ) & \n",
    "#         (df['product'] != \"Money transfer, virtual currency, or money service\") & \n",
    "#        (df['product'] != \"Checking or savings account\")]\n",
    "\n",
    "\n",
    "print(df['product'].value_counts())\n",
    "\n",
    "df['product'].replace({'Credit reporting, credit repair services, or other personal consumer reports': 'Non Money Transfer',\n",
    "                       'Credit card or prepaid card': 'Non Money Transfer',\n",
    "                       'Mortgage': 'Non Money Transfer',\n",
    "                       'Vehicle loan or lease': 'Non Money Transfer',\n",
    "                       'Payday loan, title loan, or personal loan': 'Non Money Transfer',\n",
    "                       'Student loan': 'Non Money Transfer',\n",
    "                       'Debt collection' : 'Non Money Transfer', \n",
    "                       'Money transfer, virtual currency, or money service': 'Money Transfer', \n",
    "                       'Checking or savings account': 'Non Money Transfer'}, inplace=True)"
   ]
  },
  {
   "cell_type": "code",
   "execution_count": 66,
   "metadata": {},
   "outputs": [
    {
     "data": {
      "text/plain": [
       "Non Money Transfer    182978\n",
       "Money Transfer          6180\n",
       "Name: product, dtype: int64"
      ]
     },
     "execution_count": 66,
     "metadata": {},
     "output_type": "execute_result"
    }
   ],
   "source": [
    "df['product'].value_counts()"
   ]
  },
  {
   "cell_type": "code",
   "execution_count": 67,
   "metadata": {},
   "outputs": [],
   "source": [
    "train_pos = df[df['product'] == 'Money Transfer'].sample(frac=0.2)\n",
    "df_rest_pos = df[df['product'] == 'Money Transfer'].drop(train_pos.index)\n",
    "\n",
    "train_neg = df[df['product'] == 'Non Money Transfer'].sample(frac=0.27)\n",
    "df_rest_neg = df[df['product'] == 'Non Money Transfer'].drop(train_neg.index)\n"
   ]
  },
  {
   "cell_type": "code",
   "execution_count": 68,
   "metadata": {},
   "outputs": [],
   "source": [
    "df_rest = pd.concat([df_rest_pos, df_rest_neg])\n",
    "df_train = pd.concat([train_pos, train_neg])"
   ]
  },
  {
   "cell_type": "code",
   "execution_count": 69,
   "metadata": {},
   "outputs": [
    {
     "data": {
      "text/plain": [
       "Non Money Transfer    49404\n",
       "Money Transfer         1236\n",
       "Name: product, dtype: int64"
      ]
     },
     "execution_count": 69,
     "metadata": {},
     "output_type": "execute_result"
    }
   ],
   "source": [
    "df_train['product'].value_counts()"
   ]
  },
  {
   "cell_type": "code",
   "execution_count": 71,
   "metadata": {},
   "outputs": [
    {
     "data": {
      "text/plain": [
       "Non Money Transfer    133574\n",
       "Money Transfer          4944\n",
       "Name: product, dtype: int64"
      ]
     },
     "execution_count": 71,
     "metadata": {},
     "output_type": "execute_result"
    }
   ],
   "source": [
    "df_rest['product'].value_counts()"
   ]
  },
  {
   "cell_type": "code",
   "execution_count": 72,
   "metadata": {},
   "outputs": [
    {
     "data": {
      "text/plain": [
       "(50640, 2)"
      ]
     },
     "execution_count": 72,
     "metadata": {},
     "output_type": "execute_result"
    }
   ],
   "source": [
    "df_train.shape\n"
   ]
  },
  {
   "cell_type": "code",
   "execution_count": 73,
   "metadata": {},
   "outputs": [
    {
     "data": {
      "text/html": [
       "<div>\n",
       "<style scoped>\n",
       "    .dataframe tbody tr th:only-of-type {\n",
       "        vertical-align: middle;\n",
       "    }\n",
       "\n",
       "    .dataframe tbody tr th {\n",
       "        vertical-align: top;\n",
       "    }\n",
       "\n",
       "    .dataframe thead th {\n",
       "        text-align: right;\n",
       "    }\n",
       "</style>\n",
       "<table border=\"1\" class=\"dataframe\">\n",
       "  <thead>\n",
       "    <tr style=\"text-align: right;\">\n",
       "      <th></th>\n",
       "      <th>product</th>\n",
       "      <th>narrative</th>\n",
       "    </tr>\n",
       "  </thead>\n",
       "  <tbody>\n",
       "    <tr>\n",
       "      <th>39284</th>\n",
       "      <td>Non Money Transfer</td>\n",
       "      <td>On XX/XX/XXXX I received a settlement offer fr...</td>\n",
       "    </tr>\n",
       "    <tr>\n",
       "      <th>37645</th>\n",
       "      <td>Non Money Transfer</td>\n",
       "      <td>on XX/XX/2019 My Wife had her Hours Cut back a...</td>\n",
       "    </tr>\n",
       "    <tr>\n",
       "      <th>184492</th>\n",
       "      <td>Non Money Transfer</td>\n",
       "      <td>I have an unverified accounts on my credit rep...</td>\n",
       "    </tr>\n",
       "    <tr>\n",
       "      <th>167633</th>\n",
       "      <td>Non Money Transfer</td>\n",
       "      <td>I recieved notices dated XX/XX/2021 and XX/XX/...</td>\n",
       "    </tr>\n",
       "    <tr>\n",
       "      <th>18464</th>\n",
       "      <td>Non Money Transfer</td>\n",
       "      <td>according to sunoco rewards card there saying ...</td>\n",
       "    </tr>\n",
       "    <tr>\n",
       "      <th>121146</th>\n",
       "      <td>Non Money Transfer</td>\n",
       "      <td>XXXX XXXX XXXX XXXX XXXX XXXX XXXX,XX/XX/XXXXG...</td>\n",
       "    </tr>\n",
       "    <tr>\n",
       "      <th>62676</th>\n",
       "      <td>Non Money Transfer</td>\n",
       "      <td>On XX/XX/2020 I sent a letter regarding inaccu...</td>\n",
       "    </tr>\n",
       "    <tr>\n",
       "      <th>102099</th>\n",
       "      <td>Non Money Transfer</td>\n",
       "      <td>I am the victim of an identity theft where a c...</td>\n",
       "    </tr>\n",
       "    <tr>\n",
       "      <th>47200</th>\n",
       "      <td>Non Money Transfer</td>\n",
       "      <td>My home loan was placed in forbearance as of X...</td>\n",
       "    </tr>\n",
       "    <tr>\n",
       "      <th>144561</th>\n",
       "      <td>Non Money Transfer</td>\n",
       "      <td>I contacted Experian for a credit report as we...</td>\n",
       "    </tr>\n",
       "  </tbody>\n",
       "</table>\n",
       "</div>"
      ],
      "text/plain": [
       "                   product                                          narrative\n",
       "39284   Non Money Transfer  On XX/XX/XXXX I received a settlement offer fr...\n",
       "37645   Non Money Transfer  on XX/XX/2019 My Wife had her Hours Cut back a...\n",
       "184492  Non Money Transfer  I have an unverified accounts on my credit rep...\n",
       "167633  Non Money Transfer  I recieved notices dated XX/XX/2021 and XX/XX/...\n",
       "18464   Non Money Transfer  according to sunoco rewards card there saying ...\n",
       "121146  Non Money Transfer  XXXX XXXX XXXX XXXX XXXX XXXX XXXX,XX/XX/XXXXG...\n",
       "62676   Non Money Transfer  On XX/XX/2020 I sent a letter regarding inaccu...\n",
       "102099  Non Money Transfer  I am the victim of an identity theft where a c...\n",
       "47200   Non Money Transfer  My home loan was placed in forbearance as of X...\n",
       "144561  Non Money Transfer  I contacted Experian for a credit report as we..."
      ]
     },
     "execution_count": 73,
     "metadata": {},
     "output_type": "execute_result"
    }
   ],
   "source": [
    "df_train.tail(10)"
   ]
  },
  {
   "cell_type": "code",
   "execution_count": 74,
   "metadata": {},
   "outputs": [],
   "source": [
    "df_train.index = np.arange(0, len(df_train))"
   ]
  },
  {
   "cell_type": "code",
   "execution_count": 75,
   "metadata": {},
   "outputs": [
    {
     "data": {
      "text/html": [
       "<div>\n",
       "<style scoped>\n",
       "    .dataframe tbody tr th:only-of-type {\n",
       "        vertical-align: middle;\n",
       "    }\n",
       "\n",
       "    .dataframe tbody tr th {\n",
       "        vertical-align: top;\n",
       "    }\n",
       "\n",
       "    .dataframe thead th {\n",
       "        text-align: right;\n",
       "    }\n",
       "</style>\n",
       "<table border=\"1\" class=\"dataframe\">\n",
       "  <thead>\n",
       "    <tr style=\"text-align: right;\">\n",
       "      <th></th>\n",
       "      <th>product</th>\n",
       "      <th>narrative</th>\n",
       "    </tr>\n",
       "  </thead>\n",
       "  <tbody>\n",
       "    <tr>\n",
       "      <th>50630</th>\n",
       "      <td>Non Money Transfer</td>\n",
       "      <td>On XX/XX/XXXX I received a settlement offer fr...</td>\n",
       "    </tr>\n",
       "    <tr>\n",
       "      <th>50631</th>\n",
       "      <td>Non Money Transfer</td>\n",
       "      <td>on XX/XX/2019 My Wife had her Hours Cut back a...</td>\n",
       "    </tr>\n",
       "    <tr>\n",
       "      <th>50632</th>\n",
       "      <td>Non Money Transfer</td>\n",
       "      <td>I have an unverified accounts on my credit rep...</td>\n",
       "    </tr>\n",
       "    <tr>\n",
       "      <th>50633</th>\n",
       "      <td>Non Money Transfer</td>\n",
       "      <td>I recieved notices dated XX/XX/2021 and XX/XX/...</td>\n",
       "    </tr>\n",
       "    <tr>\n",
       "      <th>50634</th>\n",
       "      <td>Non Money Transfer</td>\n",
       "      <td>according to sunoco rewards card there saying ...</td>\n",
       "    </tr>\n",
       "    <tr>\n",
       "      <th>50635</th>\n",
       "      <td>Non Money Transfer</td>\n",
       "      <td>XXXX XXXX XXXX XXXX XXXX XXXX XXXX,XX/XX/XXXXG...</td>\n",
       "    </tr>\n",
       "    <tr>\n",
       "      <th>50636</th>\n",
       "      <td>Non Money Transfer</td>\n",
       "      <td>On XX/XX/2020 I sent a letter regarding inaccu...</td>\n",
       "    </tr>\n",
       "    <tr>\n",
       "      <th>50637</th>\n",
       "      <td>Non Money Transfer</td>\n",
       "      <td>I am the victim of an identity theft where a c...</td>\n",
       "    </tr>\n",
       "    <tr>\n",
       "      <th>50638</th>\n",
       "      <td>Non Money Transfer</td>\n",
       "      <td>My home loan was placed in forbearance as of X...</td>\n",
       "    </tr>\n",
       "    <tr>\n",
       "      <th>50639</th>\n",
       "      <td>Non Money Transfer</td>\n",
       "      <td>I contacted Experian for a credit report as we...</td>\n",
       "    </tr>\n",
       "  </tbody>\n",
       "</table>\n",
       "</div>"
      ],
      "text/plain": [
       "                  product                                          narrative\n",
       "50630  Non Money Transfer  On XX/XX/XXXX I received a settlement offer fr...\n",
       "50631  Non Money Transfer  on XX/XX/2019 My Wife had her Hours Cut back a...\n",
       "50632  Non Money Transfer  I have an unverified accounts on my credit rep...\n",
       "50633  Non Money Transfer  I recieved notices dated XX/XX/2021 and XX/XX/...\n",
       "50634  Non Money Transfer  according to sunoco rewards card there saying ...\n",
       "50635  Non Money Transfer  XXXX XXXX XXXX XXXX XXXX XXXX XXXX,XX/XX/XXXXG...\n",
       "50636  Non Money Transfer  On XX/XX/2020 I sent a letter regarding inaccu...\n",
       "50637  Non Money Transfer  I am the victim of an identity theft where a c...\n",
       "50638  Non Money Transfer  My home loan was placed in forbearance as of X...\n",
       "50639  Non Money Transfer  I contacted Experian for a credit report as we..."
      ]
     },
     "execution_count": 75,
     "metadata": {},
     "output_type": "execute_result"
    }
   ],
   "source": [
    "df_train.tail(10)"
   ]
  },
  {
   "cell_type": "code",
   "execution_count": 76,
   "metadata": {},
   "outputs": [
    {
     "data": {
      "text/plain": [
       "Non Money Transfer    49404\n",
       "Money Transfer         1236\n",
       "Name: product, dtype: int64"
      ]
     },
     "execution_count": 76,
     "metadata": {},
     "output_type": "execute_result"
    }
   ],
   "source": [
    "df_train['product'].value_counts()"
   ]
  },
  {
   "cell_type": "code",
   "execution_count": 77,
   "metadata": {},
   "outputs": [
    {
     "data": {
      "text/plain": [
       "'My wife received settlement from XXXX XXXX company in the amount of {$9000.00} She opted to have the funds sent through PayPal for the so called quick and convenient service. She received the money uploaded her debit card information, she tried to cash out the money but was only allowed to send {$500.00}. So she called PayPal numerous times and got messages stating due to high call volume no-one maybe be able to answer the call and then the call drops. She finally got a representative explained her issue and the representative restored her account. My wife then sent {$5000.00} to my PayPal account then she sent {$3500.00}. I received the money and tried to cash it down to my XXXX XXXX account and when I did that I immediately received an email from PayPal stating that my account was shut down and closed and that I could look at my account but was unable to claim my money or perform any transactions and that they would be holding my money for 180 days/6 months. This is unacceptable, we are in a pandemic and my family needs all of the money that we can get to survive. I currently have an eviction and my family will be forced out of our home. I as well as XXXXXXXX XXXX opted to use this service as a way to get the money to us quickly to help us resolve our financial woes, but now we are face wit PayPal stealing our money.'"
      ]
     },
     "execution_count": 77,
     "metadata": {},
     "output_type": "execute_result"
    }
   ],
   "source": [
    "df_train.loc[0]['narrative']"
   ]
  },
  {
   "cell_type": "code",
   "execution_count": 78,
   "metadata": {},
   "outputs": [
    {
     "data": {
      "text/plain": [
       "50640"
      ]
     },
     "execution_count": 78,
     "metadata": {},
     "output_type": "execute_result"
    }
   ],
   "source": [
    "len(df_train)"
   ]
  },
  {
   "cell_type": "markdown",
   "metadata": {},
   "source": [
    "# Loop through narratives to remove stopwords, tokenize and lemmatize"
   ]
  },
  {
   "cell_type": "code",
   "execution_count": 79,
   "metadata": {},
   "outputs": [],
   "source": [
    "stopwords_list = stopwords.words('english') + list(string.punctuation)\n",
    "stopwords_list += [\"''\", '\"\"', '...', '``']\n",
    "stopwords_list += ['--', 'xxxx', 'xx/xx/2020', 'xx/xx/2021']"
   ]
  },
  {
   "cell_type": "code",
   "execution_count": 80,
   "metadata": {},
   "outputs": [],
   "source": [
    "# function to tokenize data and remove stopwords\n",
    "def process_narrative(narrative):\n",
    "    tokens = nltk.word_tokenize(narrative)\n",
    "    stopwords_removed = [token.lower() for token in tokens if token.lower() not in stopwords_list]\n",
    "    \n",
    "    # adding line to remove all tokens with numbers and punctuation\n",
    "    stopwords_punc_and_numbers_removed = [word for word in stopwords_removed if word.isalpha()]\n",
    "    \n",
    "    return stopwords_punc_and_numbers_removed\n",
    "\n",
    "\n",
    "# function to concat words (used in function below)\n",
    "def concat_words(list_of_words):\n",
    "    # remove any NaN's\n",
    "    # list_of_words = [i for i in list if i is not np.nan]\n",
    "\n",
    "    concat_words = ''\n",
    "    for word in list_of_words:\n",
    "        concat_words += word + ' '\n",
    "    return concat_words.strip()\n",
    "\n",
    "# function to lemmatize words and merge each complaint into a single space-separated string\n",
    "\n",
    "lemm = WordNetLemmatizer()\n",
    "\n",
    "def make_lemma_and_concat(list_of_words):\n",
    "    # remove any NaN's\n",
    "    list_of_words = [i for i in list_of_words if i is not np.nan]\n",
    "    \n",
    "    # lemmatize each word\n",
    "    lemmatized_list = []\n",
    "    for idx, word in enumerate(list_of_words):\n",
    "        lemmatized_list.append(lemm.lemmatize(word))\n",
    "    \n",
    "    # make the list into a single string with the words separated by ' '\n",
    "    concatenated_string = concat_words(lemmatized_list)\n",
    "    return concatenated_string"
   ]
  },
  {
   "cell_type": "markdown",
   "metadata": {},
   "source": [
    "# Prepare dataframe for modeling"
   ]
  },
  {
   "cell_type": "code",
   "execution_count": 81,
   "metadata": {},
   "outputs": [
    {
     "data": {
      "text/plain": [
       "(50640, 3)"
      ]
     },
     "execution_count": 81,
     "metadata": {},
     "output_type": "execute_result"
    }
   ],
   "source": [
    "df_train['processed narrative'] = df_train['narrative']\n",
    "df_train.shape"
   ]
  },
  {
   "cell_type": "code",
   "execution_count": 82,
   "metadata": {},
   "outputs": [
    {
     "name": "stdout",
     "output_type": "stream",
     "text": [
      "Finished line number 0\n",
      "Finished line number 3000\n",
      "Finished line number 6000\n",
      "Finished line number 9000\n",
      "Finished line number 12000\n",
      "Finished line number 15000\n",
      "Finished line number 18000\n",
      "Finished line number 21000\n",
      "Finished line number 24000\n",
      "Finished line number 27000\n",
      "Finished line number 30000\n",
      "Finished line number 33000\n",
      "Finished line number 36000\n",
      "Finished line number 39000\n",
      "Finished line number 42000\n",
      "Finished line number 45000\n",
      "Finished line number 48000\n"
     ]
    },
    {
     "data": {
      "text/html": [
       "<div>\n",
       "<style scoped>\n",
       "    .dataframe tbody tr th:only-of-type {\n",
       "        vertical-align: middle;\n",
       "    }\n",
       "\n",
       "    .dataframe tbody tr th {\n",
       "        vertical-align: top;\n",
       "    }\n",
       "\n",
       "    .dataframe thead th {\n",
       "        text-align: right;\n",
       "    }\n",
       "</style>\n",
       "<table border=\"1\" class=\"dataframe\">\n",
       "  <thead>\n",
       "    <tr style=\"text-align: right;\">\n",
       "      <th></th>\n",
       "      <th>product</th>\n",
       "      <th>narrative</th>\n",
       "      <th>processed narrative</th>\n",
       "    </tr>\n",
       "  </thead>\n",
       "  <tbody>\n",
       "    <tr>\n",
       "      <th>0</th>\n",
       "      <td>Money Transfer</td>\n",
       "      <td>My wife received settlement from XXXX XXXX com...</td>\n",
       "      <td>wife received settlement company amount opted ...</td>\n",
       "    </tr>\n",
       "    <tr>\n",
       "      <th>1</th>\n",
       "      <td>Money Transfer</td>\n",
       "      <td>My girlfriend sent me {$5000.00} on XX/XX/XXXX...</td>\n",
       "      <td>girlfriend sent using paypal help pay work don...</td>\n",
       "    </tr>\n",
       "    <tr>\n",
       "      <th>2</th>\n",
       "      <td>Money Transfer</td>\n",
       "      <td>On XX/XX/2021, I initiated a wire transfer of ...</td>\n",
       "      <td>initiated wire transfer gemini account externa...</td>\n",
       "    </tr>\n",
       "    <tr>\n",
       "      <th>3</th>\n",
       "      <td>Money Transfer</td>\n",
       "      <td>Can not link my PNC Bank account to numerous X...</td>\n",
       "      <td>link pnc bank account numerous platform</td>\n",
       "    </tr>\n",
       "    <tr>\n",
       "      <th>4</th>\n",
       "      <td>Money Transfer</td>\n",
       "      <td>I receive two payment for the amount of {$1500...</td>\n",
       "      <td>receive two payment amount cash app try cash m...</td>\n",
       "    </tr>\n",
       "  </tbody>\n",
       "</table>\n",
       "</div>"
      ],
      "text/plain": [
       "          product                                          narrative  \\\n",
       "0  Money Transfer  My wife received settlement from XXXX XXXX com...   \n",
       "1  Money Transfer  My girlfriend sent me {$5000.00} on XX/XX/XXXX...   \n",
       "2  Money Transfer  On XX/XX/2021, I initiated a wire transfer of ...   \n",
       "3  Money Transfer  Can not link my PNC Bank account to numerous X...   \n",
       "4  Money Transfer  I receive two payment for the amount of {$1500...   \n",
       "\n",
       "                                 processed narrative  \n",
       "0  wife received settlement company amount opted ...  \n",
       "1  girlfriend sent using paypal help pay work don...  \n",
       "2  initiated wire transfer gemini account externa...  \n",
       "3            link pnc bank account numerous platform  \n",
       "4  receive two payment amount cash app try cash m...  "
      ]
     },
     "execution_count": 82,
     "metadata": {},
     "output_type": "execute_result"
    }
   ],
   "source": [
    "for i in range(len(df_train)):\n",
    "    processed_narr = process_narrative(df_train['narrative'].loc[i])\n",
    "    narr = make_lemma_and_concat(processed_narr)\n",
    "    df_train['processed narrative'].loc[i] = narr\n",
    "    if i % 3000 == 0:\n",
    "        print(f'Finished line number {i}')\n",
    "df_train.head()"
   ]
  },
  {
   "cell_type": "code",
   "execution_count": 85,
   "metadata": {},
   "outputs": [
    {
     "data": {
      "text/plain": [
       "(138518, 3)"
      ]
     },
     "execution_count": 85,
     "metadata": {},
     "output_type": "execute_result"
    }
   ],
   "source": [
    "df_rest.shape"
   ]
  },
  {
   "cell_type": "code",
   "execution_count": 88,
   "metadata": {},
   "outputs": [
    {
     "data": {
      "text/html": [
       "<div>\n",
       "<style scoped>\n",
       "    .dataframe tbody tr th:only-of-type {\n",
       "        vertical-align: middle;\n",
       "    }\n",
       "\n",
       "    .dataframe tbody tr th {\n",
       "        vertical-align: top;\n",
       "    }\n",
       "\n",
       "    .dataframe thead th {\n",
       "        text-align: right;\n",
       "    }\n",
       "</style>\n",
       "<table border=\"1\" class=\"dataframe\">\n",
       "  <thead>\n",
       "    <tr style=\"text-align: right;\">\n",
       "      <th></th>\n",
       "      <th>product</th>\n",
       "      <th>narrative</th>\n",
       "      <th>processed narrative</th>\n",
       "    </tr>\n",
       "  </thead>\n",
       "  <tbody>\n",
       "    <tr>\n",
       "      <th>17</th>\n",
       "      <td>Money Transfer</td>\n",
       "      <td>My ex boyfriend worked for the call center at ...</td>\n",
       "      <td>My ex boyfriend worked for the call center at ...</td>\n",
       "    </tr>\n",
       "    <tr>\n",
       "      <th>19</th>\n",
       "      <td>Money Transfer</td>\n",
       "      <td>Money was removed from my account, seemingly t...</td>\n",
       "      <td>Money was removed from my account, seemingly t...</td>\n",
       "    </tr>\n",
       "    <tr>\n",
       "      <th>44</th>\n",
       "      <td>Money Transfer</td>\n",
       "      <td>The loan company Money Key Loans called me on ...</td>\n",
       "      <td>The loan company Money Key Loans called me on ...</td>\n",
       "    </tr>\n",
       "    <tr>\n",
       "      <th>61</th>\n",
       "      <td>Money Transfer</td>\n",
       "      <td>Here is a time Line of the Wire that was sent ...</td>\n",
       "      <td>Here is a time Line of the Wire that was sent ...</td>\n",
       "    </tr>\n",
       "    <tr>\n",
       "      <th>113</th>\n",
       "      <td>Money Transfer</td>\n",
       "      <td>Coinbase of XXXX XXXX has frozen my available ...</td>\n",
       "      <td>Coinbase of XXXX XXXX has frozen my available ...</td>\n",
       "    </tr>\n",
       "  </tbody>\n",
       "</table>\n",
       "</div>"
      ],
      "text/plain": [
       "            product                                          narrative  \\\n",
       "17   Money Transfer  My ex boyfriend worked for the call center at ...   \n",
       "19   Money Transfer  Money was removed from my account, seemingly t...   \n",
       "44   Money Transfer  The loan company Money Key Loans called me on ...   \n",
       "61   Money Transfer  Here is a time Line of the Wire that was sent ...   \n",
       "113  Money Transfer  Coinbase of XXXX XXXX has frozen my available ...   \n",
       "\n",
       "                                   processed narrative  \n",
       "17   My ex boyfriend worked for the call center at ...  \n",
       "19   Money was removed from my account, seemingly t...  \n",
       "44   The loan company Money Key Loans called me on ...  \n",
       "61   Here is a time Line of the Wire that was sent ...  \n",
       "113  Coinbase of XXXX XXXX has frozen my available ...  "
      ]
     },
     "execution_count": 88,
     "metadata": {},
     "output_type": "execute_result"
    }
   ],
   "source": [
    "df_rest.head()"
   ]
  },
  {
   "cell_type": "code",
   "execution_count": 89,
   "metadata": {},
   "outputs": [
    {
     "name": "stdout",
     "output_type": "stream",
     "text": [
      "Finished line number 0\n",
      "Finished line number 3000\n",
      "Finished line number 6000\n",
      "Finished line number 9000\n",
      "Finished line number 12000\n",
      "Finished line number 15000\n",
      "Finished line number 18000\n",
      "Finished line number 21000\n",
      "Finished line number 24000\n",
      "Finished line number 27000\n",
      "Finished line number 30000\n",
      "Finished line number 33000\n",
      "Finished line number 36000\n",
      "Finished line number 39000\n",
      "Finished line number 42000\n",
      "Finished line number 45000\n",
      "Finished line number 48000\n",
      "Finished line number 51000\n",
      "Finished line number 54000\n",
      "Finished line number 57000\n",
      "Finished line number 60000\n",
      "Finished line number 63000\n",
      "Finished line number 66000\n",
      "Finished line number 69000\n",
      "Finished line number 72000\n",
      "Finished line number 75000\n",
      "Finished line number 78000\n",
      "Finished line number 81000\n",
      "Finished line number 84000\n",
      "Finished line number 87000\n",
      "Finished line number 90000\n",
      "Finished line number 93000\n",
      "Finished line number 96000\n",
      "Finished line number 99000\n",
      "Finished line number 102000\n",
      "Finished line number 105000\n",
      "Finished line number 108000\n",
      "Finished line number 111000\n",
      "Finished line number 114000\n",
      "Finished line number 117000\n",
      "Finished line number 120000\n",
      "Finished line number 123000\n",
      "Finished line number 126000\n",
      "Finished line number 129000\n",
      "Finished line number 132000\n",
      "Finished line number 135000\n",
      "Finished line number 138000\n"
     ]
    },
    {
     "data": {
      "text/html": [
       "<div>\n",
       "<style scoped>\n",
       "    .dataframe tbody tr th:only-of-type {\n",
       "        vertical-align: middle;\n",
       "    }\n",
       "\n",
       "    .dataframe tbody tr th {\n",
       "        vertical-align: top;\n",
       "    }\n",
       "\n",
       "    .dataframe thead th {\n",
       "        text-align: right;\n",
       "    }\n",
       "</style>\n",
       "<table border=\"1\" class=\"dataframe\">\n",
       "  <thead>\n",
       "    <tr style=\"text-align: right;\">\n",
       "      <th></th>\n",
       "      <th>product</th>\n",
       "      <th>narrative</th>\n",
       "      <th>processed narrative</th>\n",
       "    </tr>\n",
       "  </thead>\n",
       "  <tbody>\n",
       "    <tr>\n",
       "      <th>0</th>\n",
       "      <td>Money Transfer</td>\n",
       "      <td>My ex boyfriend worked for the call center at ...</td>\n",
       "      <td>ex boyfriend worked call center u bank wiscons...</td>\n",
       "    </tr>\n",
       "    <tr>\n",
       "      <th>1</th>\n",
       "      <td>Money Transfer</td>\n",
       "      <td>Money was removed from my account, seemingly t...</td>\n",
       "      <td>money removed account seemingly cashapp able c...</td>\n",
       "    </tr>\n",
       "    <tr>\n",
       "      <th>2</th>\n",
       "      <td>Money Transfer</td>\n",
       "      <td>The loan company Money Key Loans called me on ...</td>\n",
       "      <td>loan company money key loan called saying saw ...</td>\n",
       "    </tr>\n",
       "    <tr>\n",
       "      <th>3</th>\n",
       "      <td>Money Transfer</td>\n",
       "      <td>Here is a time Line of the Wire that was sent ...</td>\n",
       "      <td>time line wire sent activity since party invol...</td>\n",
       "    </tr>\n",
       "    <tr>\n",
       "      <th>4</th>\n",
       "      <td>Money Transfer</td>\n",
       "      <td>Coinbase of XXXX XXXX has frozen my available ...</td>\n",
       "      <td>coinbase frozen available cash withdraw availa...</td>\n",
       "    </tr>\n",
       "  </tbody>\n",
       "</table>\n",
       "</div>"
      ],
      "text/plain": [
       "          product                                          narrative  \\\n",
       "0  Money Transfer  My ex boyfriend worked for the call center at ...   \n",
       "1  Money Transfer  Money was removed from my account, seemingly t...   \n",
       "2  Money Transfer  The loan company Money Key Loans called me on ...   \n",
       "3  Money Transfer  Here is a time Line of the Wire that was sent ...   \n",
       "4  Money Transfer  Coinbase of XXXX XXXX has frozen my available ...   \n",
       "\n",
       "                                 processed narrative  \n",
       "0  ex boyfriend worked call center u bank wiscons...  \n",
       "1  money removed account seemingly cashapp able c...  \n",
       "2  loan company money key loan called saying saw ...  \n",
       "3  time line wire sent activity since party invol...  \n",
       "4  coinbase frozen available cash withdraw availa...  "
      ]
     },
     "execution_count": 89,
     "metadata": {},
     "output_type": "execute_result"
    }
   ],
   "source": [
    "# df_rest['processed narrative'] = df_rest['narrative']\n",
    "df_rest.index = np.arange(0, len(df_rest))\n",
    "for i in range(len(df_rest)):\n",
    "    processed_narr = process_narrative(df_rest['narrative'].loc[i])\n",
    "    narr = make_lemma_and_concat(processed_narr)\n",
    "    df_rest['processed narrative'].loc[i] = narr\n",
    "    if i % 3000 == 0:\n",
    "        print(f'Finished line number {i}')\n",
    "df_rest.head()"
   ]
  },
  {
   "cell_type": "markdown",
   "metadata": {},
   "source": [
    "# Save dataframe as csv for use in other notebooks"
   ]
  },
  {
   "cell_type": "code",
   "execution_count": 90,
   "metadata": {},
   "outputs": [],
   "source": [
    "df_train.to_csv('complaints_processed_1year_0719.csv')"
   ]
  },
  {
   "cell_type": "code",
   "execution_count": 91,
   "metadata": {},
   "outputs": [
    {
     "data": {
      "text/html": [
       "<div>\n",
       "<style scoped>\n",
       "    .dataframe tbody tr th:only-of-type {\n",
       "        vertical-align: middle;\n",
       "    }\n",
       "\n",
       "    .dataframe tbody tr th {\n",
       "        vertical-align: top;\n",
       "    }\n",
       "\n",
       "    .dataframe thead th {\n",
       "        text-align: right;\n",
       "    }\n",
       "</style>\n",
       "<table border=\"1\" class=\"dataframe\">\n",
       "  <thead>\n",
       "    <tr style=\"text-align: right;\">\n",
       "      <th></th>\n",
       "      <th>product</th>\n",
       "      <th>narrative</th>\n",
       "      <th>processed narrative</th>\n",
       "    </tr>\n",
       "  </thead>\n",
       "  <tbody>\n",
       "    <tr>\n",
       "      <th>0</th>\n",
       "      <td>Money Transfer</td>\n",
       "      <td>My ex boyfriend worked for the call center at ...</td>\n",
       "      <td>ex boyfriend worked call center u bank wiscons...</td>\n",
       "    </tr>\n",
       "    <tr>\n",
       "      <th>1</th>\n",
       "      <td>Money Transfer</td>\n",
       "      <td>Money was removed from my account, seemingly t...</td>\n",
       "      <td>money removed account seemingly cashapp able c...</td>\n",
       "    </tr>\n",
       "    <tr>\n",
       "      <th>2</th>\n",
       "      <td>Money Transfer</td>\n",
       "      <td>The loan company Money Key Loans called me on ...</td>\n",
       "      <td>loan company money key loan called saying saw ...</td>\n",
       "    </tr>\n",
       "    <tr>\n",
       "      <th>3</th>\n",
       "      <td>Money Transfer</td>\n",
       "      <td>Here is a time Line of the Wire that was sent ...</td>\n",
       "      <td>time line wire sent activity since party invol...</td>\n",
       "    </tr>\n",
       "    <tr>\n",
       "      <th>4</th>\n",
       "      <td>Money Transfer</td>\n",
       "      <td>Coinbase of XXXX XXXX has frozen my available ...</td>\n",
       "      <td>coinbase frozen available cash withdraw availa...</td>\n",
       "    </tr>\n",
       "  </tbody>\n",
       "</table>\n",
       "</div>"
      ],
      "text/plain": [
       "          product                                          narrative  \\\n",
       "0  Money Transfer  My ex boyfriend worked for the call center at ...   \n",
       "1  Money Transfer  Money was removed from my account, seemingly t...   \n",
       "2  Money Transfer  The loan company Money Key Loans called me on ...   \n",
       "3  Money Transfer  Here is a time Line of the Wire that was sent ...   \n",
       "4  Money Transfer  Coinbase of XXXX XXXX has frozen my available ...   \n",
       "\n",
       "                                 processed narrative  \n",
       "0  ex boyfriend worked call center u bank wiscons...  \n",
       "1  money removed account seemingly cashapp able c...  \n",
       "2  loan company money key loan called saying saw ...  \n",
       "3  time line wire sent activity since party invol...  \n",
       "4  coinbase frozen available cash withdraw availa...  "
      ]
     },
     "execution_count": 91,
     "metadata": {},
     "output_type": "execute_result"
    }
   ],
   "source": [
    "df_rest.head()"
   ]
  },
  {
   "cell_type": "code",
   "execution_count": 92,
   "metadata": {},
   "outputs": [],
   "source": [
    "df_rest.index = np.arange(0, len(df_rest))"
   ]
  },
  {
   "cell_type": "code",
   "execution_count": 93,
   "metadata": {},
   "outputs": [],
   "source": [
    "df_rest.to_csv('complaints_processed_1year_0719_test.csv')"
   ]
  },
  {
   "cell_type": "code",
   "execution_count": null,
   "metadata": {},
   "outputs": [],
   "source": []
  }
 ],
 "metadata": {
  "kernelspec": {
   "display_name": "Python 3 (ipykernel)",
   "language": "python",
   "name": "python3"
  },
  "language_info": {
   "codemirror_mode": {
    "name": "ipython",
    "version": 3
   },
   "file_extension": ".py",
   "mimetype": "text/x-python",
   "name": "python",
   "nbconvert_exporter": "python",
   "pygments_lexer": "ipython3",
   "version": "3.8.11"
  },
  "varInspector": {
   "cols": {
    "lenName": 16,
    "lenType": 16,
    "lenVar": 40
   },
   "kernels_config": {
    "python": {
     "delete_cmd_postfix": "",
     "delete_cmd_prefix": "del ",
     "library": "var_list.py",
     "varRefreshCmd": "print(var_dic_list())"
    },
    "r": {
     "delete_cmd_postfix": ") ",
     "delete_cmd_prefix": "rm(",
     "library": "var_list.r",
     "varRefreshCmd": "cat(var_dic_list()) "
    }
   },
   "types_to_exclude": [
    "module",
    "function",
    "builtin_function_or_method",
    "instance",
    "_Feature"
   ],
   "window_display": false
  }
 },
 "nbformat": 4,
 "nbformat_minor": 4
}
